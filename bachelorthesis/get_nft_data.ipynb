{
 "cells": [
  {
   "cell_type": "code",
   "execution_count": 1,
   "id": "77ce5cda-c719-40c0-b22a-e0b2250ae60e",
   "metadata": {},
   "outputs": [],
   "source": [
    "%load_ext autoreload\n",
    "%autoreload 2\n",
    "\n",
    "import os\n",
    "os.chdir('../')"
   ]
  },
  {
   "cell_type": "code",
   "execution_count": 46,
   "id": "0c9af785-1d9f-4fd9-90d7-2f615811f6ed",
   "metadata": {},
   "outputs": [],
   "source": [
    "import pandas as pd\n",
    "import yaml\n",
    "\n",
    "import datetime\n",
    "from time import sleep\n",
    "from pyautogui import *\n",
    "\n",
    "from gui_utils import (\n",
    "    open_download_page, select_download_date, captcha, next_download\n",
    ")"
   ]
  },
  {
   "cell_type": "code",
   "execution_count": 105,
   "id": "e8edbdfa-471d-4b0c-ad99-48f9c27e0620",
   "metadata": {},
   "outputs": [],
   "source": [
    "with open(\"viktor/collections.yaml\", \"r\") as stream:\n",
    "    collections = yaml.safe_load(stream)"
   ]
  },
  {
   "cell_type": "code",
   "execution_count": 107,
   "id": "5c7ee125-a521-419f-a0f3-d9ccd4044b9a",
   "metadata": {},
   "outputs": [],
   "source": [
    "collections"
   ]
  },
  {
   "cell_type": "code",
   "execution_count": 5,
   "id": "231dabea-1a42-4f32-a535-ce9b2f67a1aa",
   "metadata": {},
   "outputs": [],
   "source": [
    "collection_name = list(collections.keys())[1]\n",
    "collection = collections[collection_name]\n",
    "\n",
    "address = collection[\"address\"]\n",
    "url = f\"https://etherscan.io/nfttracker?contractAddress={address}\""
   ]
  },
  {
   "cell_type": "code",
   "execution_count": 98,
   "id": "98edefa9-6e29-4513-9694-e06034224500",
   "metadata": {},
   "outputs": [
    {
     "data": {
      "text/plain": [
       "'10ktf'"
      ]
     },
     "execution_count": 98,
     "metadata": {},
     "output_type": "execute_result"
    }
   ],
   "source": [
    "collection_name"
   ]
  },
  {
   "cell_type": "code",
   "execution_count": 37,
   "id": "1f6edfd4-85b2-46c4-a819-a2b45488607b",
   "metadata": {},
   "outputs": [
    {
     "ename": "ValueError",
     "evalue": "invalid literal for int() with base 10: ''",
     "output_type": "error",
     "traceback": [
      "\u001b[1;31m---------------------------------------------------------------------------\u001b[0m",
      "\u001b[1;31mValueError\u001b[0m                                Traceback (most recent call last)",
      "Input \u001b[1;32mIn [37]\u001b[0m, in \u001b[0;36m<cell line: 3>\u001b[1;34m()\u001b[0m\n\u001b[0;32m      1\u001b[0m \u001b[38;5;66;03m# Go to Download Page\u001b[39;00m\n\u001b[0;32m      2\u001b[0m records_count \u001b[38;5;241m=\u001b[39m open_download_page(url)\n\u001b[1;32m----> 3\u001b[0m required_downloads \u001b[38;5;241m=\u001b[39m \u001b[38;5;28mint\u001b[39m(\u001b[38;5;28;43mint\u001b[39;49m\u001b[43m(\u001b[49m\u001b[43mrecords_count\u001b[49m\u001b[43m)\u001b[49m \u001b[38;5;241m/\u001b[39m \u001b[38;5;241m1000\u001b[39m)\n\u001b[0;32m      4\u001b[0m required_downloads\n",
      "\u001b[1;31mValueError\u001b[0m: invalid literal for int() with base 10: ''"
     ]
    }
   ],
   "source": [
    "# Go to Download Page\n",
    "records_count = open_download_page(url)\n",
    "required_downloads = int(int(records_count) / 1000)\n",
    "required_downloads"
   ]
  },
  {
   "cell_type": "code",
   "execution_count": null,
   "id": "1a177b77-c9ce-4ebd-a04c-91dff00df363",
   "metadata": {},
   "outputs": [],
   "source": [
    "first_date = datetime.datetime(2019, 1, 1)\n",
    "month_diff = 45"
   ]
  },
  {
   "cell_type": "code",
   "execution_count": 31,
   "id": "1e84196a-9322-420e-9954-171de485ff32",
   "metadata": {},
   "outputs": [],
   "source": [
    "historic_data_dfs = []\n",
    "download_date = \"20190101\""
   ]
  },
  {
   "cell_type": "code",
   "execution_count": 27,
   "id": "6f7ad332-9b6e-4849-b2d6-e0b18d5c49ef",
   "metadata": {},
   "outputs": [],
   "source": [
    "select_download_date(month_diff)\n",
    "sleep(2)\n",
    "captcha()"
   ]
  },
  {
   "cell_type": "code",
   "execution_count": 94,
   "id": "65f6403e-adf5-43bb-b605-cb3a1dca305f",
   "metadata": {},
   "outputs": [],
   "source": [
    "download_path = f\"D:\\Downloads\\export-nfttracker-trade-{download_date}.csv\"\n",
    "latest_download = pd.read_csv(download_path)\n",
    "historic_data_dfs.append(latest_download)\n",
    "os.remove(download_path)\n",
    "\n",
    "last_date = pd.to_datetime(latest_download[\"Date Time (UTC)\"]).dt.date.iloc[-1]\n",
    "next_day = last_date + datetime.timedelta(days=1)\n",
    "\n",
    "month_diff = (next_day.year - first_date.year) * 12 + (next_day.month - first_date.month)\n",
    "\n",
    "download_date = next_day.strftime(\"%Y%m%d\")"
   ]
  },
  {
   "cell_type": "code",
   "execution_count": 95,
   "id": "906d775f-b7e2-48a7-91eb-59e6cf71399f",
   "metadata": {},
   "outputs": [
    {
     "data": {
      "text/plain": [
       "(19, '20221003', 45)"
      ]
     },
     "execution_count": 95,
     "metadata": {},
     "output_type": "execute_result"
    }
   ],
   "source": [
    "len(historic_data_dfs), download_date, month_diff"
   ]
  },
  {
   "cell_type": "code",
   "execution_count": 89,
   "id": "0b5c4455-4ed4-4c78-a32d-032366eaff06",
   "metadata": {},
   "outputs": [],
   "source": [
    "next_download(month_diff)"
   ]
  },
  {
   "cell_type": "code",
   "execution_count": 99,
   "id": "1fca4fd2-a464-4fb5-b32e-b66d587912d1",
   "metadata": {
    "tags": []
   },
   "outputs": [],
   "source": [
    "nft_trades = pd.concat(historic_data_dfs)\n",
    "nft_trades_path = \"viktor/nft_trades/\"+collection_name+\"_nft_trades.csv\"\n",
    "nft_trades.to_csv(nft_trades_path)"
   ]
  },
  {
   "cell_type": "code",
   "execution_count": 101,
   "id": "53aed48f-42b0-401c-98b4-0ed8b47b777c",
   "metadata": {},
   "outputs": [
    {
     "data": {
      "text/plain": [
       "<module 'collections' from 'C:\\\\Users\\\\Gert\\\\.conda\\\\envs\\\\viktor\\\\lib\\\\collections\\\\__init__.py'>"
      ]
     },
     "execution_count": 101,
     "metadata": {},
     "output_type": "execute_result"
    }
   ],
   "source": [
    "collections"
   ]
  },
  {
   "cell_type": "code",
   "execution_count": 100,
   "id": "6045dfab-b02e-4339-b8b8-160e54ce3bd7",
   "metadata": {},
   "outputs": [
    {
     "ename": "TypeError",
     "evalue": "'module' object is not subscriptable",
     "output_type": "error",
     "traceback": [
      "\u001b[1;31m---------------------------------------------------------------------------\u001b[0m",
      "\u001b[1;31mTypeError\u001b[0m                                 Traceback (most recent call last)",
      "Input \u001b[1;32mIn [100]\u001b[0m, in \u001b[0;36m<cell line: 1>\u001b[1;34m()\u001b[0m\n\u001b[1;32m----> 1\u001b[0m \u001b[43mcollections\u001b[49m\u001b[43m[\u001b[49m\u001b[43mcollection_name\u001b[49m\u001b[43m]\u001b[49m[\u001b[38;5;124m\"\u001b[39m\u001b[38;5;124mnft_trades_path\u001b[39m\u001b[38;5;124m\"\u001b[39m] \u001b[38;5;241m=\u001b[39m nft_trades_path\n",
      "\u001b[1;31mTypeError\u001b[0m: 'module' object is not subscriptable"
     ]
    }
   ],
   "source": [
    "collections[collection_name][\"nft_trades_path\"] = nft_trades_path"
   ]
  },
  {
   "cell_type": "code",
   "execution_count": null,
   "id": "d9393915-f02d-4c2e-88af-b655cf78f070",
   "metadata": {},
   "outputs": [],
   "source": []
  }
 ],
 "metadata": {
  "kernelspec": {
   "display_name": "Python 3 (ipykernel)",
   "language": "python",
   "name": "python3"
  },
  "language_info": {
   "codemirror_mode": {
    "name": "ipython",
    "version": 3
   },
   "file_extension": ".py",
   "mimetype": "text/x-python",
   "name": "python",
   "nbconvert_exporter": "python",
   "pygments_lexer": "ipython3",
   "version": "3.10.4"
  }
 },
 "nbformat": 4,
 "nbformat_minor": 5
}
