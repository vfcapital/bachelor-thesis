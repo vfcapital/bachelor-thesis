{
 "cells": [
  {
   "cell_type": "code",
   "execution_count": 10,
   "id": "0ee57ef8-b85c-4be4-a036-54cf6854606e",
   "metadata": {},
   "outputs": [],
   "source": [
    "import requests\n",
    "from bs4 import BeautifulSoup"
   ]
  },
  {
   "cell_type": "code",
   "execution_count": 17,
   "id": "a2cea22b-a394-4d05-a7a6-916fb3142aab",
   "metadata": {},
   "outputs": [],
   "source": [
    "link = f\"https://cryptopunks.app/cryptopunks/sales?page={1}\""
   ]
  },
  {
   "cell_type": "code",
   "execution_count": 8,
   "id": "f6c3c736-ffd5-42c7-9f99-8958345a9c10",
   "metadata": {},
   "outputs": [],
   "source": [
    "def _get_html(link):\n",
    "    headers = {\n",
    "        \"Referer\": link,\n",
    "        \"sec-ch-ua\": '\"Chromium\";v=\"104\",'\n",
    "        '\" Not A;Brand\";v=\"99\",'\n",
    "        '\"Google Chrome\";v=\"104\"',\n",
    "        \"sec-ch-ua-mobile\": \"?0\",\n",
    "        \"sec-ch-ua-platform\": '\"Windows\"',\n",
    "        \"User-Agent\": (\n",
    "            \"Mozilla/5.0 (Windows NT 10.0; Win64; x64)\"\n",
    "            \"AppleWebKit/537.36 (KHTML, like Gecko)\"\n",
    "            \"Chrome/104.0.0.0 Safari/537.36\"\n",
    "        ),\n",
    "    }\n",
    "    return requests.get(link, headers=headers).content\n"
   ]
  },
  {
   "cell_type": "code",
   "execution_count": 13,
   "id": "d28a1a04-f9b4-465f-997d-5dd5ddb6534b",
   "metadata": {},
   "outputs": [],
   "source": [
    "def _extract_js_script(link):\n",
    "    raw_html = _get_html(link)\n",
    "    soup = BeautifulSoup(raw_html, \"lxml\")\n",
    "    return soup#.findAll(\"script\")[0].string"
   ]
  },
  {
   "cell_type": "code",
   "execution_count": 20,
   "id": "d78d3bf7-ce22-41f1-9bb1-c3b4e007aa9f",
   "metadata": {},
   "outputs": [],
   "source": [
    "def get_slug_names(script):\n",
    "    location_slug = -1\n",
    "    location_logo = -1\n",
    "\n",
    "    slug_names = []\n",
    "\n",
    "    while True:\n",
    "        location_slug = script.find('\"slug\":\"', location_slug + 1)\n",
    "        location_logo = script.find('\",\"logo', location_logo + 1)\n",
    "\n",
    "        # Break if not found.\n",
    "        if location_slug == -1:\n",
    "            break\n",
    "        if location_logo == -1:\n",
    "            break\n",
    "\n",
    "        # Display result.\n",
    "        slug_names.append(script[location_slug + 8 : location_logo])\n",
    "    return slug_names\n"
   ]
  },
  {
   "cell_type": "code",
   "execution_count": 15,
   "id": "65040f69-1682-4ab2-92d3-5cba35adc2d1",
   "metadata": {},
   "outputs": [],
   "source": [
    "script = _extract_js_script(link)"
   ]
  },
  {
   "cell_type": "code",
   "execution_count": 18,
   "id": "5f45b45d-b78f-41c7-9135-4fd7f989ee8a",
   "metadata": {},
   "outputs": [],
   "source": [
    "max_page = 242"
   ]
  },
  {
   "cell_type": "code",
   "execution_count": 47,
   "id": "dbf20efc-505c-4b45-a35f-89c054f3c361",
   "metadata": {},
   "outputs": [
    {
     "data": {
      "text/plain": [
       "3"
      ]
     },
     "execution_count": 47,
     "metadata": {},
     "output_type": "execute_result"
    }
   ],
   "source": [
    "[1,2,3][2]"
   ]
  },
  {
   "cell_type": "code",
   "execution_count": 57,
   "id": "5937f0ea-7bda-4032-90de-71b50f4c67ff",
   "metadata": {},
   "outputs": [],
   "source": [
    "amount_usd = list()\n",
    "sales = script.text.split()[25:-86]\n",
    "for i in range(len(sales)):\n",
    "    if i % 5 == 0:\n",
    "        sale = sales[i]\n",
    "        amount_usd.append(sale)"
   ]
  },
  {
   "cell_type": "code",
   "execution_count": 60,
   "id": "45c74d13-58c8-4c64-8b0b-0087b7e04551",
   "metadata": {},
   "outputs": [
    {
     "data": {
      "text/plain": [
       "96"
      ]
     },
     "execution_count": 60,
     "metadata": {},
     "output_type": "execute_result"
    }
   ],
   "source": [
    "len(amount_usd)"
   ]
  },
  {
   "cell_type": "code",
   "execution_count": null,
   "id": "eb0e5b85-03ec-46fe-9f93-b654cdf1aa65",
   "metadata": {},
   "outputs": [],
   "source": []
  }
 ],
 "metadata": {
  "kernelspec": {
   "display_name": "bachelor-thesis",
   "language": "python",
   "name": "bachelor-thesis"
  },
  "language_info": {
   "codemirror_mode": {
    "name": "ipython",
    "version": 3
   },
   "file_extension": ".py",
   "mimetype": "text/x-python",
   "name": "python",
   "nbconvert_exporter": "python",
   "pygments_lexer": "ipython3",
   "version": "3.9.13"
  }
 },
 "nbformat": 4,
 "nbformat_minor": 5
}
