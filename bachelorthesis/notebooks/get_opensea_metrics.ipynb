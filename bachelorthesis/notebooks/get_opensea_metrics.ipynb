{
 "cells": [
  {
   "cell_type": "code",
   "execution_count": 1,
   "id": "f1a02fca-2ce6-4393-8081-36034b54dae5",
   "metadata": {},
   "outputs": [],
   "source": [
    "%load_ext autoreload\n",
    "%autoreload 2\n",
    "\n",
    "import os\n",
    "\n",
    "os.chdir(\"../\")"
   ]
  },
  {
   "cell_type": "code",
   "execution_count": 4,
   "id": "a3cd71a3-2979-4a4a-8ffc-79dbc13d32df",
   "metadata": {},
   "outputs": [],
   "source": [
    "import yaml\n",
    "from scraper import _get_opensea_collection_link, _extract_js_script"
   ]
  },
  {
   "cell_type": "code",
   "execution_count": 3,
   "id": "93ad0438-ff1d-4e4e-b18b-98c42e55084b",
   "metadata": {},
   "outputs": [],
   "source": [
    "with open(\"collections.yaml\", \"r\") as stream:\n",
    "    collections = yaml.safe_load(stream)"
   ]
  },
  {
   "cell_type": "code",
   "execution_count": 10,
   "id": "5b62af7c-cd59-4bbd-86e5-d370fae72cd5",
   "metadata": {},
   "outputs": [
    {
     "name": "stdout",
     "output_type": "stream",
     "text": [
      "0xmons-xyz\n",
      "10ktf\n",
      "1111-by-kevin-abosch\n",
      "3landers\n",
      "8sian-main-collection\n",
      "ainightbirds\n",
      "anatomyscienceapeclub\n",
      "async-art\n",
      "autoglyphs\n",
      "avastar\n"
     ]
    }
   ],
   "source": [
    "for slug in list(collections.keys())[:10]:\n",
    "    print(slug)"
   ]
  },
  {
   "cell_type": "code",
   "execution_count": 11,
   "id": "8f2fab2e-945b-49fa-bbbf-70fefcc66b8f",
   "metadata": {},
   "outputs": [],
   "source": [
    "link = _get_opensea_collection_link(slug)"
   ]
  },
  {
   "cell_type": "code",
   "execution_count": 16,
   "id": "5fe60487-3010-42fd-97f9-4b1af731b30e",
   "metadata": {},
   "outputs": [],
   "source": [
    "js = _extract_js_script(link)"
   ]
  },
  {
   "cell_type": "code",
   "execution_count": 17,
   "id": "f5ae8ad9-8045-4021-8c74-486fdf1ad62e",
   "metadata": {},
   "outputs": [
    {
     "data": {
      "text/plain": [
       "<!DOCTYPE html>\n",
       "<html lang=\"en-US\">\n",
       "<head>\n",
       "<title>Access denied</title>\n",
       "<meta content=\"IE=Edge\" http-equiv=\"X-UA-Compatible\"/>\n",
       "<meta content=\"noindex, nofollow\" name=\"robots\"/>\n",
       "<meta content=\"width=device-width,initial-scale=1\" name=\"viewport\"/>\n",
       "<link href=\"/cdn-cgi/styles/errors.css\" media=\"screen\" rel=\"stylesheet\"/>\n",
       "<script>\n",
       "(function(){if(document.addEventListener&&window.XMLHttpRequest&&JSON&&JSON.stringify){var e=function(a){var c=document.getElementById(\"error-feedback-survey\"),d=document.getElementById(\"error-feedback-success\"),b=new XMLHttpRequest;a={event:\"feedback clicked\",properties:{errorCode:1020,helpful:a,version:4}};b.open(\"POST\",\"https://sparrow.cloudflare.com/api/v1/event\");b.setRequestHeader(\"Content-Type\",\"application/json\");b.setRequestHeader(\"Sparrow-Source-Key\",\"c771f0e4b54944bebf4261d44bd79a1e\");\n",
       "b.send(JSON.stringify(a));c.classList.add(\"feedback-hidden\");d.classList.remove(\"feedback-hidden\")};document.addEventListener(\"DOMContentLoaded\",function(){var a=document.getElementById(\"error-feedback\"),c=document.getElementById(\"feedback-button-yes\"),d=document.getElementById(\"feedback-button-no\");\"classList\"in a&&(a.classList.remove(\"feedback-hidden\"),c.addEventListener(\"click\",function(){e(!0)}),d.addEventListener(\"click\",function(){e(!1)}))})}})();\n",
       "</script>\n",
       "<script>\n",
       "         (function(){if(document.addEventListener){var c=function(){var b=document.getElementById(\"copy-label\");document.getElementById(\"plain-ray-id\");if(navigator.clipboard)navigator.clipboard.writeText(\"7656af8318d59090\");else{var a=document.createElement(\"textarea\");a.value=\"7656af8318d59090\";a.style.top=\"0\";a.style.left=\"0\";a.style.position=\"fixed\";document.body.appendChild(a);a.focus();a.select();document.execCommand(\"copy\");document.body.removeChild(a)}b.innerText=\"Copied\"};document.addEventListener(\"DOMContentLoaded\",\n",
       "function(){var b=document.getElementById(\"plain-ray-id\"),a=document.getElementById(\"click-to-copy-btn\");\"classList\"in b&&(b.classList.add(\"hidden\"),a.classList.remove(\"hidden\"),a.addEventListener(\"click\",c))})}})();\n",
       "      </script>\n",
       "<script defer=\"\" src=\"https://performance.radar.cloudflare.com/beacon.js\"></script>\n",
       "</head>\n",
       "<body>\n",
       "<div class=\"main-wrapper\" role=\"main\">\n",
       "<div class=\"header section\">\n",
       "<h1>\n",
       "<span class=\"error-description\">Access denied</span>\n",
       "<span class=\"code-label\">Error code <span>1020</span></span>\n",
       "</h1>\n",
       "<div class=\"large-font\">\n",
       "<p>You cannot access opensea.io. Refresh the page or contact the site owner to request access.</p>\n",
       "</div>\n",
       "</div>\n",
       "</div>\n",
       "<div>\n",
       "<div class=\"section know-more\">\n",
       "<h2 class=\"large-font\">Troubleshooting information</h2>\n",
       "<p>Copy and paste the Ray ID when you contact the site owner.</p>\n",
       "<p class=\"ray-id-wrapper\">\n",
       "               Ray ID:\n",
       "               <span class=\"plain-ray-id\" id=\"plain-ray-id\">\n",
       "                  7656af8318d59090\n",
       "               </span>\n",
       "<button class=\"click-to-copy-btn hidden\" id=\"click-to-copy-btn\" title=\"Click to copy Ray ID\" type=\"button\">\n",
       "<span class=\"ray-id\">7656af8318d59090</span><span class=\"copy-label\" id=\"copy-label\">Copy</span>\n",
       "</button>\n",
       "</p>\n",
       "<p>\n",
       "            For help visit <a href=\"https://support.cloudflare.com/hc/articles/360029779472-Troubleshooting-Cloudflare-1XXX-errors?utm_source=1020_error#error1020\" rel=\"noopener noreferrer\" target=\"_blank\">Troubleshooting guide</a>\n",
       "<img alt=\"External link\" class=\"external-link\" src=\"/cdn-cgi/images/external.png\" title=\"Opens in new tab\"/>\n",
       "</p>\n",
       "</div>\n",
       "<div class=\"clearfix footer section\" role=\"contentinfo\">\n",
       "<div class=\"column\">\n",
       "<div class=\"feedback-hidden py-8 text-center\" id=\"error-feedback\">\n",
       "<div class=\"footer-line-wrapper\" id=\"error-feedback-survey\">\n",
       "        Was this page helpful?\n",
       "        <button class=\"border border-solid bg-white cf-button cursor-pointer ml-4 px-4 py-2 rounded\" id=\"feedback-button-yes\" type=\"button\">Yes</button>\n",
       "<button class=\"border border-solid bg-white cf-button cursor-pointer ml-4 px-4 py-2 rounded\" id=\"feedback-button-no\" type=\"button\">No</button>\n",
       "</div>\n",
       "<div class=\"feedback-success feedback-hidden\" id=\"error-feedback-success\">\n",
       "        Thank you for your feedback!\n",
       "    </div>\n",
       "</div>\n",
       "</div>\n",
       "<div class=\"column footer-line-wrapper text-center\">\n",
       "               Performance &amp; security by <a href=\"https://www.cloudflare.com?utm_source=1020_error\" rel=\"noopener noreferrer\" target=\"_blank\">Cloudflare</a>\n",
       "<img alt=\"External link\" class=\"external-link\" src=\"/cdn-cgi/images/external.png\" title=\"Opens in new tab\"/>\n",
       "</div>\n",
       "</div>\n",
       "</div>\n",
       "<script crossorigin=\"anonymous\" data-cf-beacon='{\"rayId\":\"7656af8318d59090\",\"token\":\"96047490de144c8b91be74ba7605ab69\",\"version\":\"2022.11.0\",\"si\":100}' defer=\"\" integrity=\"sha512-0ahDYl866UMhKuYcW078ScMalXqtFJggm7TmlUtp0UlD4eQk0Ixfnm5ykXKvGJNFjLMoortdseTfsRT8oCfgGA==\" src=\"https://static.cloudflareinsights.com/beacon.min.js/vaafb692b2aea4879b33c060e79fe94621666317369993\"></script>\n",
       "</body>\n",
       "</html>"
      ]
     },
     "execution_count": 17,
     "metadata": {},
     "output_type": "execute_result"
    }
   ],
   "source": [
    "js"
   ]
  },
  {
   "cell_type": "code",
   "execution_count": null,
   "id": "fb1dfe8e-279d-4f2e-b97a-619b9ba9b24d",
   "metadata": {},
   "outputs": [],
   "source": []
  }
 ],
 "metadata": {
  "kernelspec": {
   "display_name": "bachelor-thesis",
   "language": "python",
   "name": "bachelor-thesis"
  },
  "language_info": {
   "codemirror_mode": {
    "name": "ipython",
    "version": 3
   },
   "file_extension": ".py",
   "mimetype": "text/x-python",
   "name": "python",
   "nbconvert_exporter": "python",
   "pygments_lexer": "ipython3",
   "version": "3.9.13"
  }
 },
 "nbformat": 4,
 "nbformat_minor": 5
}
