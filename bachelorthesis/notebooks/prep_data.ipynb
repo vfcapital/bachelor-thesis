{
 "cells": [
  {
   "cell_type": "code",
   "execution_count": 1,
   "id": "1649c42c-cc3f-4f05-8e7c-6d627a2159d6",
   "metadata": {},
   "outputs": [],
   "source": [
    "%load_ext autoreload\n",
    "%autoreload 2\n",
    "\n",
    "import os\n",
    "import warnings\n",
    "\n",
    "warnings.filterwarnings(\"ignore\")\n",
    "os.chdir(\"../\")"
   ]
  },
  {
   "cell_type": "code",
   "execution_count": 2,
   "id": "fd990e32-6126-47a2-be3a-c1b3bc052170",
   "metadata": {},
   "outputs": [],
   "source": [
    "import pandas as pd\n",
    "from analysis import (\n",
    "    calculate_profits,\n",
    "    format_trades_df,\n",
    "    get_top_collections,\n",
    "    get_trade_count,\n",
    ")"
   ]
  },
  {
   "cell_type": "code",
   "execution_count": 3,
   "id": "b5f087aa-0e3d-4bee-822b-0528b9689a0b",
   "metadata": {},
   "outputs": [],
   "source": [
    "nft_trades = (\n",
    "    pd.read_csv(\"historic_data/trades.csv\", low_memory=False)\n",
    "    .pipe(format_trades_df)\n",
    "    .pipe(get_trade_count)\n",
    ")"
   ]
  },
  {
   "cell_type": "code",
   "execution_count": 5,
   "id": "4e6d793f-ce50-40d4-b955-61a211548bbc",
   "metadata": {},
   "outputs": [
    {
     "data": {
      "text/html": [
       "<div>\n",
       "<style scoped>\n",
       "    .dataframe tbody tr th:only-of-type {\n",
       "        vertical-align: middle;\n",
       "    }\n",
       "\n",
       "    .dataframe tbody tr th {\n",
       "        vertical-align: top;\n",
       "    }\n",
       "\n",
       "    .dataframe thead th {\n",
       "        text-align: right;\n",
       "    }\n",
       "</style>\n",
       "<table border=\"1\" class=\"dataframe\">\n",
       "  <thead>\n",
       "    <tr style=\"text-align: right;\">\n",
       "      <th></th>\n",
       "      <th></th>\n",
       "      <th>date</th>\n",
       "      <th>price_eth</th>\n",
       "      <th>price_usd</th>\n",
       "      <th>NFT</th>\n",
       "      <th>Buyer</th>\n",
       "    </tr>\n",
       "    <tr>\n",
       "      <th>nft_id</th>\n",
       "      <th>trade_count</th>\n",
       "      <th></th>\n",
       "      <th></th>\n",
       "      <th></th>\n",
       "      <th></th>\n",
       "      <th></th>\n",
       "    </tr>\n",
       "  </thead>\n",
       "  <tbody>\n",
       "    <tr>\n",
       "      <th rowspan=\"2\" valign=\"top\">0xmons.xyz_103</th>\n",
       "      <th>1</th>\n",
       "      <td>2021-03-14</td>\n",
       "      <td>6.00</td>\n",
       "      <td>11092.14</td>\n",
       "      <td>0xmons.xyz</td>\n",
       "      <td>0xfaf1031b02a994b80f12cc1ee4c0dcebbb946aa0</td>\n",
       "    </tr>\n",
       "    <tr>\n",
       "      <th>2</th>\n",
       "      <td>2021-08-01</td>\n",
       "      <td>5.00</td>\n",
       "      <td>12782.05</td>\n",
       "      <td>0xmons.xyz</td>\n",
       "      <td>0x73ffce54ce7d21397a7932d9bc2a7e013ff30902</td>\n",
       "    </tr>\n",
       "    <tr>\n",
       "      <th rowspan=\"2\" valign=\"top\">0xmons.xyz_118</th>\n",
       "      <th>1</th>\n",
       "      <td>2021-04-01</td>\n",
       "      <td>7.99</td>\n",
       "      <td>15721.68</td>\n",
       "      <td>0xmons.xyz</td>\n",
       "      <td>0x2117c37a65ad3c0489682386f7d81d4c6d08b3c8</td>\n",
       "    </tr>\n",
       "    <tr>\n",
       "      <th>2</th>\n",
       "      <td>2021-12-04</td>\n",
       "      <td>12.00</td>\n",
       "      <td>49491.12</td>\n",
       "      <td>0xmons.xyz</td>\n",
       "      <td>0x947e1bbcbf8a67a9f7a393adf93179baaf0cccdc</td>\n",
       "    </tr>\n",
       "    <tr>\n",
       "      <th>0xmons.xyz_126</th>\n",
       "      <th>1</th>\n",
       "      <td>2021-03-11</td>\n",
       "      <td>5.55</td>\n",
       "      <td>10140.18</td>\n",
       "      <td>0xmons.xyz</td>\n",
       "      <td>0xfaf1031b02a994b80f12cc1ee4c0dcebbb946aa0</td>\n",
       "    </tr>\n",
       "  </tbody>\n",
       "</table>\n",
       "</div>"
      ],
      "text/plain": [
       "                                  date  price_eth  price_usd         NFT  \\\n",
       "nft_id         trade_count                                                 \n",
       "0xmons.xyz_103 1            2021-03-14       6.00   11092.14  0xmons.xyz   \n",
       "               2            2021-08-01       5.00   12782.05  0xmons.xyz   \n",
       "0xmons.xyz_118 1            2021-04-01       7.99   15721.68  0xmons.xyz   \n",
       "               2            2021-12-04      12.00   49491.12  0xmons.xyz   \n",
       "0xmons.xyz_126 1            2021-03-11       5.55   10140.18  0xmons.xyz   \n",
       "\n",
       "                                                                 Buyer  \n",
       "nft_id         trade_count                                              \n",
       "0xmons.xyz_103 1            0xfaf1031b02a994b80f12cc1ee4c0dcebbb946aa0  \n",
       "               2            0x73ffce54ce7d21397a7932d9bc2a7e013ff30902  \n",
       "0xmons.xyz_118 1            0x2117c37a65ad3c0489682386f7d81d4c6d08b3c8  \n",
       "               2            0x947e1bbcbf8a67a9f7a393adf93179baaf0cccdc  \n",
       "0xmons.xyz_126 1            0xfaf1031b02a994b80f12cc1ee4c0dcebbb946aa0  "
      ]
     },
     "execution_count": 5,
     "metadata": {},
     "output_type": "execute_result"
    }
   ],
   "source": [
    "nft_trades.head()"
   ]
  },
  {
   "cell_type": "code",
   "execution_count": 9,
   "id": "28178b5f-26ec-459e-80f8-4acbfe544181",
   "metadata": {},
   "outputs": [
    {
     "data": {
      "text/html": [
       "<div>\n",
       "<style scoped>\n",
       "    .dataframe tbody tr th:only-of-type {\n",
       "        vertical-align: middle;\n",
       "    }\n",
       "\n",
       "    .dataframe tbody tr th {\n",
       "        vertical-align: top;\n",
       "    }\n",
       "\n",
       "    .dataframe thead th {\n",
       "        text-align: right;\n",
       "    }\n",
       "</style>\n",
       "<table border=\"1\" class=\"dataframe\">\n",
       "  <thead>\n",
       "    <tr style=\"text-align: right;\">\n",
       "      <th></th>\n",
       "      <th>price_usd</th>\n",
       "    </tr>\n",
       "    <tr>\n",
       "      <th>NFT</th>\n",
       "      <th></th>\n",
       "    </tr>\n",
       "  </thead>\n",
       "  <tbody>\n",
       "    <tr>\n",
       "      <th>BoredApeYachtClub</th>\n",
       "      <td>$967,988,903</td>\n",
       "    </tr>\n",
       "    <tr>\n",
       "      <th>Karafuru</th>\n",
       "      <td>$82,956,044</td>\n",
       "    </tr>\n",
       "    <tr>\n",
       "      <th>Phanta Bear</th>\n",
       "      <td>$50,378,539</td>\n",
       "    </tr>\n",
       "    <tr>\n",
       "      <th>Cold Blooded Creepz</th>\n",
       "      <td>$45,106,466</td>\n",
       "    </tr>\n",
       "    <tr>\n",
       "      <th>Sneaky Vampire Syndicate</th>\n",
       "      <td>$41,741,858</td>\n",
       "    </tr>\n",
       "  </tbody>\n",
       "</table>\n",
       "</div>"
      ],
      "text/plain": [
       "                             price_usd\n",
       "NFT                                   \n",
       "BoredApeYachtClub         $967,988,903\n",
       "Karafuru                   $82,956,044\n",
       "Phanta Bear                $50,378,539\n",
       "Cold Blooded Creepz        $45,106,466\n",
       "Sneaky Vampire Syndicate   $41,741,858"
      ]
     },
     "execution_count": 9,
     "metadata": {},
     "output_type": "execute_result"
    }
   ],
   "source": [
    "get_top_collections(nft_trades)"
   ]
  },
  {
   "cell_type": "code",
   "execution_count": null,
   "id": "cbc8cc87-f5ae-44bc-9118-b263e7e9d260",
   "metadata": {},
   "outputs": [],
   "source": []
  }
 ],
 "metadata": {
  "kernelspec": {
   "display_name": "bachelor-thesis",
   "language": "python",
   "name": "bachelor-thesis"
  },
  "language_info": {
   "codemirror_mode": {
    "name": "ipython",
    "version": 3
   },
   "file_extension": ".py",
   "mimetype": "text/x-python",
   "name": "python",
   "nbconvert_exporter": "python",
   "pygments_lexer": "ipython3",
   "version": "3.10.6"
  }
 },
 "nbformat": 4,
 "nbformat_minor": 5
}
