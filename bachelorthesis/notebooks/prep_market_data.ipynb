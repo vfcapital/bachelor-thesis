{
 "cells": [
  {
   "cell_type": "code",
   "execution_count": 1,
   "id": "7944e928-f168-45b2-b2dd-39232d03c886",
   "metadata": {},
   "outputs": [],
   "source": [
    "%load_ext autoreload\n",
    "%autoreload 2\n",
    "\n",
    "import os\n",
    "import warnings\n",
    "\n",
    "warnings.filterwarnings(\"ignore\")\n",
    "os.chdir(\"../\")"
   ]
  },
  {
   "cell_type": "code",
   "execution_count": 2,
   "id": "53428694-4c45-412a-b010-b70fa9d0d778",
   "metadata": {},
   "outputs": [],
   "source": [
    "import matplotlib.dates as mdates\n",
    "import matplotlib.pyplot as plt\n",
    "import matplotlib.ticker as mtick\n",
    "import pandas as pd\n",
    "import seaborn as sns\n",
    "from analysis import load_nft_trades, plot_correl_heatmap"
   ]
  },
  {
   "cell_type": "code",
   "execution_count": 3,
   "id": "8e5b9216-1425-4d33-8e42-0b313d067b64",
   "metadata": {},
   "outputs": [],
   "source": [
    "nft_trades = load_nft_trades()"
   ]
  },
  {
   "cell_type": "code",
   "execution_count": 4,
   "id": "9592246a-3674-43cb-b732-d951c0a70ee8",
   "metadata": {},
   "outputs": [],
   "source": [
    "# finance.yahoo.com\n",
    "gold = pd.read_csv(\"historic_data/gold.csv\").iloc[:-1]\n",
    "gold = (\n",
    "    gold.assign(Date=pd.to_datetime(gold.Date).dt.date)\n",
    "    .set_index(\"Date\")[[\"Close*\"]]\n",
    "    .rename(columns={\"Close*\": \"Gold\"})\n",
    ")\n",
    "gold = gold[gold[\"Gold\"] != \"-\"]\n",
    "gold.Gold = gold.Gold.apply(lambda x: float(x.replace(\",\", \"\")))"
   ]
  },
  {
   "cell_type": "code",
   "execution_count": 5,
   "id": "0aa1e6e4-c080-4d60-b07b-1c3317e6b090",
   "metadata": {},
   "outputs": [],
   "source": [
    "# finance.yahoo.com\n",
    "oil = pd.read_csv(\"historic_data/oil.csv\", thousands=\",\").iloc[:-1]\n",
    "oil = (\n",
    "    oil.assign(Date=pd.to_datetime(oil.Date).dt.date)\n",
    "    .set_index(\"Date\")[[\"Close*\"]]\n",
    "    .rename(columns={\"Close*\": \"Oil\"})\n",
    ")\n",
    "oil = oil[oil[\"Oil\"] != \"-\"]\n",
    "oil.Oil = oil.Oil.apply(lambda x: float(x.replace(\",\", \"\")))"
   ]
  },
  {
   "cell_type": "code",
   "execution_count": 6,
   "id": "098f7ca1-6b54-435b-8807-1c6cd02de762",
   "metadata": {},
   "outputs": [],
   "source": [
    "# finance.yahoo.com\n",
    "bitcoin = pd.read_csv(\"historic_data/bitcoin.csv\", thousands=\",\").iloc[:-1]\n",
    "bitcoin = (\n",
    "    bitcoin.assign(Date=pd.to_datetime(bitcoin.Date).dt.date)\n",
    "    .set_index(\"Date\")[[\"Close*\"]]\n",
    "    .rename(columns={\"Close*\": \"Bitcoin\"})\n",
    ")\n",
    "bitcoin = bitcoin[bitcoin[\"Bitcoin\"] != \"-\"]"
   ]
  },
  {
   "cell_type": "code",
   "execution_count": 7,
   "id": "bfb712b5-34b9-4bf2-8d6e-52edfe669080",
   "metadata": {},
   "outputs": [],
   "source": [
    "# VanEck Global Real Estate ISIN NL0009690239\n",
    "real_estate = pd.read_csv(\"historic_data/real_estate.csv\")\n",
    "real_estate = (\n",
    "    real_estate.assign(Date=pd.to_datetime(real_estate.Date).dt.date)\n",
    "    .set_index(\"Date\")[[\"Close*\"]]\n",
    "    .rename(columns={\"Close*\": \"Real Estate\"})\n",
    ")"
   ]
  },
  {
   "cell_type": "code",
   "execution_count": 8,
   "id": "9eb8fd6d-9112-4c7b-ba98-c26afdf2b19f",
   "metadata": {},
   "outputs": [],
   "source": [
    "ether = pd.read_csv(\"historic_data/eth_usd.csv\")\n",
    "ether = (\n",
    "    ether.assign(Date=pd.to_datetime(ether.Date).dt.date)\n",
    "    .set_index(\"Date\")\n",
    "    .rename(columns={\"ETH_in_USD\": \"Ether\"})\n",
    ")"
   ]
  },
  {
   "cell_type": "code",
   "execution_count": 9,
   "id": "f36aa7b5-57e3-4f68-a7c1-08b5129e2d4f",
   "metadata": {},
   "outputs": [],
   "source": [
    "spx = pd.read_csv(\"historic_data/spx.csv\")\n",
    "spx = (\n",
    "    spx.assign(Date=pd.to_datetime(spx.Date).dt.date)\n",
    "    .set_index(\"Date\")\n",
    "    .rename(columns={\"spx\": \"S&P 500\"})\n",
    ")"
   ]
  },
  {
   "cell_type": "code",
   "execution_count": 10,
   "id": "3b48b6ab-6c4f-492f-9fec-11bc358db9ff",
   "metadata": {},
   "outputs": [],
   "source": [
    "nft_index = nft_trades.groupby(\"sell_date\").median()\n",
    "nft_index = (\n",
    "    nft_index.reset_index()\n",
    "    .assign(Date=pd.to_datetime(nft_index.reset_index().sell_date).dt.date)\n",
    "    .set_index(\"Date\")\n",
    ")\n",
    "nft_index = nft_index[[\"sell_price_usd\"]].rename(\n",
    "    columns={\"sell_price_usd\": \"NFT Art Index\"}\n",
    ")"
   ]
  },
  {
   "cell_type": "code",
   "execution_count": 11,
   "id": "8c94af22-ae81-4793-97d5-fa1267b781bc",
   "metadata": {},
   "outputs": [],
   "source": [
    "market = (\n",
    "    nft_index.merge(spx, how=\"inner\", left_index=True, right_index=True)\n",
    "    .merge(ether, how=\"inner\", left_index=True, right_index=True)\n",
    "    .merge(bitcoin, how=\"inner\", left_index=True, right_index=True)\n",
    "    .merge(gold, how=\"inner\", left_index=True, right_index=True)\n",
    "    .merge(oil, how=\"inner\", left_index=True, right_index=True)\n",
    "    .merge(real_estate, how=\"inner\", left_index=True, right_index=True)\n",
    ")"
   ]
  },
  {
   "cell_type": "code",
   "execution_count": null,
   "id": "2ea165e3-83fa-49ab-981d-6e4b88f86a48",
   "metadata": {},
   "outputs": [],
   "source": []
  },
  {
   "cell_type": "code",
   "execution_count": 12,
   "id": "a49bdf2a-d500-4209-84f5-52c84e7915a4",
   "metadata": {},
   "outputs": [],
   "source": [
    "market_weekly = market.rolling(30).median().pct_change()"
   ]
  },
  {
   "cell_type": "code",
   "execution_count": 13,
   "id": "e0722635-c5ac-4370-b16f-6d3296befaba",
   "metadata": {},
   "outputs": [],
   "source": [
    "market_weekly_correl = market_weekly.corr(\"pearson\")"
   ]
  },
  {
   "cell_type": "code",
   "execution_count": 14,
   "id": "9d807998-59bd-4fe8-9077-d8564d8ab68f",
   "metadata": {},
   "outputs": [
    {
     "data": {
      "text/html": [
       "<div>\n",
       "<style scoped>\n",
       "    .dataframe tbody tr th:only-of-type {\n",
       "        vertical-align: middle;\n",
       "    }\n",
       "\n",
       "    .dataframe tbody tr th {\n",
       "        vertical-align: top;\n",
       "    }\n",
       "\n",
       "    .dataframe thead th {\n",
       "        text-align: right;\n",
       "    }\n",
       "</style>\n",
       "<table border=\"1\" class=\"dataframe\">\n",
       "  <thead>\n",
       "    <tr style=\"text-align: right;\">\n",
       "      <th></th>\n",
       "      <th>NFT Art Index</th>\n",
       "      <th>S&amp;P 500</th>\n",
       "      <th>Ether</th>\n",
       "      <th>Bitcoin</th>\n",
       "      <th>Gold</th>\n",
       "      <th>Oil</th>\n",
       "      <th>Real Estate</th>\n",
       "    </tr>\n",
       "    <tr>\n",
       "      <th>Date</th>\n",
       "      <th></th>\n",
       "      <th></th>\n",
       "      <th></th>\n",
       "      <th></th>\n",
       "      <th></th>\n",
       "      <th></th>\n",
       "      <th></th>\n",
       "    </tr>\n",
       "  </thead>\n",
       "  <tbody>\n",
       "    <tr>\n",
       "      <th>2020-01-17</th>\n",
       "      <td>NaN</td>\n",
       "      <td>NaN</td>\n",
       "      <td>NaN</td>\n",
       "      <td>NaN</td>\n",
       "      <td>NaN</td>\n",
       "      <td>NaN</td>\n",
       "      <td>NaN</td>\n",
       "    </tr>\n",
       "    <tr>\n",
       "      <th>2020-02-12</th>\n",
       "      <td>NaN</td>\n",
       "      <td>NaN</td>\n",
       "      <td>NaN</td>\n",
       "      <td>NaN</td>\n",
       "      <td>NaN</td>\n",
       "      <td>NaN</td>\n",
       "      <td>NaN</td>\n",
       "    </tr>\n",
       "    <tr>\n",
       "      <th>2020-04-01</th>\n",
       "      <td>NaN</td>\n",
       "      <td>NaN</td>\n",
       "      <td>NaN</td>\n",
       "      <td>NaN</td>\n",
       "      <td>NaN</td>\n",
       "      <td>NaN</td>\n",
       "      <td>NaN</td>\n",
       "    </tr>\n",
       "    <tr>\n",
       "      <th>2020-04-06</th>\n",
       "      <td>NaN</td>\n",
       "      <td>NaN</td>\n",
       "      <td>NaN</td>\n",
       "      <td>NaN</td>\n",
       "      <td>NaN</td>\n",
       "      <td>NaN</td>\n",
       "      <td>NaN</td>\n",
       "    </tr>\n",
       "    <tr>\n",
       "      <th>2020-04-17</th>\n",
       "      <td>NaN</td>\n",
       "      <td>NaN</td>\n",
       "      <td>NaN</td>\n",
       "      <td>NaN</td>\n",
       "      <td>NaN</td>\n",
       "      <td>NaN</td>\n",
       "      <td>NaN</td>\n",
       "    </tr>\n",
       "    <tr>\n",
       "      <th>...</th>\n",
       "      <td>...</td>\n",
       "      <td>...</td>\n",
       "      <td>...</td>\n",
       "      <td>...</td>\n",
       "      <td>...</td>\n",
       "      <td>...</td>\n",
       "      <td>...</td>\n",
       "    </tr>\n",
       "    <tr>\n",
       "      <th>2022-09-28</th>\n",
       "      <td>-0.068085</td>\n",
       "      <td>-0.003130</td>\n",
       "      <td>-0.006029</td>\n",
       "      <td>-0.003917</td>\n",
       "      <td>-0.001402</td>\n",
       "      <td>0.000000</td>\n",
       "      <td>-0.001210</td>\n",
       "    </tr>\n",
       "    <tr>\n",
       "      <th>2022-09-29</th>\n",
       "      <td>0.000000</td>\n",
       "      <td>-0.002631</td>\n",
       "      <td>-0.007499</td>\n",
       "      <td>-0.006321</td>\n",
       "      <td>-0.001404</td>\n",
       "      <td>-0.000518</td>\n",
       "      <td>-0.001818</td>\n",
       "    </tr>\n",
       "    <tr>\n",
       "      <th>2022-09-30</th>\n",
       "      <td>0.000000</td>\n",
       "      <td>-0.002824</td>\n",
       "      <td>-0.002796</td>\n",
       "      <td>-0.004959</td>\n",
       "      <td>-0.002227</td>\n",
       "      <td>-0.001497</td>\n",
       "      <td>-0.003399</td>\n",
       "    </tr>\n",
       "    <tr>\n",
       "      <th>2022-10-03</th>\n",
       "      <td>0.073059</td>\n",
       "      <td>-0.002761</td>\n",
       "      <td>-0.009605</td>\n",
       "      <td>-0.002416</td>\n",
       "      <td>-0.002467</td>\n",
       "      <td>-0.006113</td>\n",
       "      <td>-0.004264</td>\n",
       "    </tr>\n",
       "    <tr>\n",
       "      <th>2022-10-04</th>\n",
       "      <td>0.060717</td>\n",
       "      <td>-0.003118</td>\n",
       "      <td>-0.014710</td>\n",
       "      <td>0.000000</td>\n",
       "      <td>0.000000</td>\n",
       "      <td>-0.000522</td>\n",
       "      <td>-0.009298</td>\n",
       "    </tr>\n",
       "  </tbody>\n",
       "</table>\n",
       "<p>477 rows × 7 columns</p>\n",
       "</div>"
      ],
      "text/plain": [
       "            NFT Art Index   S&P 500     Ether   Bitcoin      Gold       Oil  \\\n",
       "Date                                                                          \n",
       "2020-01-17            NaN       NaN       NaN       NaN       NaN       NaN   \n",
       "2020-02-12            NaN       NaN       NaN       NaN       NaN       NaN   \n",
       "2020-04-01            NaN       NaN       NaN       NaN       NaN       NaN   \n",
       "2020-04-06            NaN       NaN       NaN       NaN       NaN       NaN   \n",
       "2020-04-17            NaN       NaN       NaN       NaN       NaN       NaN   \n",
       "...                   ...       ...       ...       ...       ...       ...   \n",
       "2022-09-28      -0.068085 -0.003130 -0.006029 -0.003917 -0.001402  0.000000   \n",
       "2022-09-29       0.000000 -0.002631 -0.007499 -0.006321 -0.001404 -0.000518   \n",
       "2022-09-30       0.000000 -0.002824 -0.002796 -0.004959 -0.002227 -0.001497   \n",
       "2022-10-03       0.073059 -0.002761 -0.009605 -0.002416 -0.002467 -0.006113   \n",
       "2022-10-04       0.060717 -0.003118 -0.014710  0.000000  0.000000 -0.000522   \n",
       "\n",
       "            Real Estate  \n",
       "Date                     \n",
       "2020-01-17          NaN  \n",
       "2020-02-12          NaN  \n",
       "2020-04-01          NaN  \n",
       "2020-04-06          NaN  \n",
       "2020-04-17          NaN  \n",
       "...                 ...  \n",
       "2022-09-28    -0.001210  \n",
       "2022-09-29    -0.001818  \n",
       "2022-09-30    -0.003399  \n",
       "2022-10-03    -0.004264  \n",
       "2022-10-04    -0.009298  \n",
       "\n",
       "[477 rows x 7 columns]"
      ]
     },
     "execution_count": 14,
     "metadata": {},
     "output_type": "execute_result"
    }
   ],
   "source": [
    "market_weekly"
   ]
  },
  {
   "cell_type": "code",
   "execution_count": 21,
   "id": "0aacb3fa-a424-491e-8b5c-7ad130b6d360",
   "metadata": {},
   "outputs": [
    {
     "data": {
      "image/png": "[encoded data removed]",
      "text/plain": [
       "<Figure size 640x480 with 2 Axes>"
      ]
     },
     "metadata": {},
     "output_type": "display_data"
    }
   ],
   "source": [
    "sns.heatmap(market_weekly_correl.round(1), annot=True, vmin=-1, vmax=1, cmap=\"coolwarm\", alpha=0.8)\n",
    "plt.tight_layout()\n",
    "plt.savefig(\"figures/correl.png\")"
   ]
  },
  {
   "cell_type": "code",
   "execution_count": null,
   "id": "f5af5caf-3add-4cf6-b77d-9b33ec3ffa61",
   "metadata": {},
   "outputs": [],
   "source": []
  }
 ],
 "metadata": {
  "kernelspec": {
   "display_name": "bachelor-thesis",
   "language": "python",
   "name": "bachelor-thesis"
  },
  "language_info": {
   "codemirror_mode": {
    "name": "ipython",
    "version": 3
   },
   "file_extension": ".py",
   "mimetype": "text/x-python",
   "name": "python",
   "nbconvert_exporter": "python",
   "pygments_lexer": "ipython3",
   "version": "3.9.13"
  }
 },
 "nbformat": 4,
 "nbformat_minor": 5
}
