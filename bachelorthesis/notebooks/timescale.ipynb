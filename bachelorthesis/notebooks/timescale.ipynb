{
 "cells": [
  {
   "cell_type": "code",
   "execution_count": 1,
   "id": "242f8597-cf01-417f-bdb5-0a2f0119d02f",
   "metadata": {},
   "outputs": [],
   "source": [
    "%load_ext autoreload\n",
    "%autoreload 2"
   ]
  },
  {
   "cell_type": "code",
   "execution_count": 2,
   "id": "a28808a0-0b4b-41c4-81b3-611a45f9d2e7",
   "metadata": {},
   "outputs": [],
   "source": [
    "import requests\n",
    "import pandas as pd"
   ]
  },
  {
   "cell_type": "code",
   "execution_count": 3,
   "id": "113b8948-9789-4eee-935f-0d2eaef8c079",
   "metadata": {},
   "outputs": [],
   "source": [
    "dashboard_link = \"http://0.0.0.0:8088/\""
   ]
  },
  {
   "cell_type": "code",
   "execution_count": 8,
   "id": "d4e8e646-1934-41fe-bbf2-aed59aaf2077",
   "metadata": {},
   "outputs": [
    {
     "data": {
      "text/plain": [
       "<Response [200]>"
      ]
     },
     "execution_count": 8,
     "metadata": {},
     "output_type": "execute_result"
    }
   ],
   "source": [
    "requests.get(dashboard_link)"
   ]
  },
  {
   "cell_type": "code",
   "execution_count": 80,
   "id": "cbcdc428-d12a-4d73-8b7f-698eb1f15223",
   "metadata": {},
   "outputs": [],
   "source": [
    "test_nft_data = pd.read_csv(\"/Users/viktor/python/bachelor-thesis/bachelorthesis/historic_data/nft_data_example.csv\").set_index(\"slug\")"
   ]
  },
  {
   "cell_type": "code",
   "execution_count": 81,
   "id": "cc42fb66-dac6-49d7-9b0d-e5aee38e826e",
   "metadata": {},
   "outputs": [
    {
     "data": {
      "text/html": [
       "<div>\n",
       "<style scoped>\n",
       "    .dataframe tbody tr th:only-of-type {\n",
       "        vertical-align: middle;\n",
       "    }\n",
       "\n",
       "    .dataframe tbody tr th {\n",
       "        vertical-align: top;\n",
       "    }\n",
       "\n",
       "    .dataframe thead th {\n",
       "        text-align: right;\n",
       "    }\n",
       "</style>\n",
       "<table border=\"1\" class=\"dataframe\">\n",
       "  <thead>\n",
       "    <tr style=\"text-align: right;\">\n",
       "      <th></th>\n",
       "      <th>volume</th>\n",
       "      <th>most_expensive_nft_id</th>\n",
       "      <th>volume_eth</th>\n",
       "      <th>max_price</th>\n",
       "      <th>mean_price</th>\n",
       "      <th>median_price</th>\n",
       "      <th>bucket</th>\n",
       "    </tr>\n",
       "    <tr>\n",
       "      <th>slug</th>\n",
       "      <th></th>\n",
       "      <th></th>\n",
       "      <th></th>\n",
       "      <th></th>\n",
       "      <th></th>\n",
       "      <th></th>\n",
       "      <th></th>\n",
       "    </tr>\n",
       "  </thead>\n",
       "  <tbody>\n",
       "    <tr>\n",
       "      <th>cryptokitties</th>\n",
       "      <td>78</td>\n",
       "      <td>32305</td>\n",
       "      <td>27.983879</td>\n",
       "      <td>10.00</td>\n",
       "      <td>0.358768</td>\n",
       "      <td>0.045639</td>\n",
       "      <td>2021-10-07 00:00:00+00:00</td>\n",
       "    </tr>\n",
       "    <tr>\n",
       "      <th>cryptokitties</th>\n",
       "      <td>93</td>\n",
       "      <td>121661</td>\n",
       "      <td>5.902702</td>\n",
       "      <td>1.00</td>\n",
       "      <td>0.063470</td>\n",
       "      <td>0.014832</td>\n",
       "      <td>2021-10-02 00:00:00+00:00</td>\n",
       "    </tr>\n",
       "    <tr>\n",
       "      <th>cryptopunks</th>\n",
       "      <td>24</td>\n",
       "      <td>177245</td>\n",
       "      <td>3525.020000</td>\n",
       "      <td>242.69</td>\n",
       "      <td>146.875833</td>\n",
       "      <td>134.963063</td>\n",
       "      <td>2021-10-02 00:00:00+00:00</td>\n",
       "    </tr>\n",
       "    <tr>\n",
       "      <th>cryptopunks</th>\n",
       "      <td>8</td>\n",
       "      <td>178284</td>\n",
       "      <td>1072.400000</td>\n",
       "      <td>180.00</td>\n",
       "      <td>134.050000</td>\n",
       "      <td>137.965153</td>\n",
       "      <td>2021-10-06 00:00:00+00:00</td>\n",
       "    </tr>\n",
       "    <tr>\n",
       "      <th>cryptopunks</th>\n",
       "      <td>11</td>\n",
       "      <td>178725</td>\n",
       "      <td>1769.340000</td>\n",
       "      <td>450.00</td>\n",
       "      <td>160.849091</td>\n",
       "      <td>134.424289</td>\n",
       "      <td>2021-10-03 00:00:00+00:00</td>\n",
       "    </tr>\n",
       "  </tbody>\n",
       "</table>\n",
       "</div>"
      ],
      "text/plain": [
       "               volume  most_expensive_nft_id   volume_eth  max_price  \\\n",
       "slug                                                                   \n",
       "cryptokitties      78                  32305    27.983879      10.00   \n",
       "cryptokitties      93                 121661     5.902702       1.00   \n",
       "cryptopunks        24                 177245  3525.020000     242.69   \n",
       "cryptopunks         8                 178284  1072.400000     180.00   \n",
       "cryptopunks        11                 178725  1769.340000     450.00   \n",
       "\n",
       "               mean_price  median_price                     bucket  \n",
       "slug                                                                \n",
       "cryptokitties    0.358768      0.045639  2021-10-07 00:00:00+00:00  \n",
       "cryptokitties    0.063470      0.014832  2021-10-02 00:00:00+00:00  \n",
       "cryptopunks    146.875833    134.963063  2021-10-02 00:00:00+00:00  \n",
       "cryptopunks    134.050000    137.965153  2021-10-06 00:00:00+00:00  \n",
       "cryptopunks    160.849091    134.424289  2021-10-03 00:00:00+00:00  "
      ]
     },
     "execution_count": 81,
     "metadata": {},
     "output_type": "execute_result"
    }
   ],
   "source": [
    "test_nft_data.head()"
   ]
  },
  {
   "cell_type": "code",
   "execution_count": 90,
   "id": "e88bb049-81f0-4bd0-bf2e-a44969a0bc87",
   "metadata": {},
   "outputs": [
    {
     "data": {
      "text/html": [
       "<div>\n",
       "<style scoped>\n",
       "    .dataframe tbody tr th:only-of-type {\n",
       "        vertical-align: middle;\n",
       "    }\n",
       "\n",
       "    .dataframe tbody tr th {\n",
       "        vertical-align: top;\n",
       "    }\n",
       "\n",
       "    .dataframe thead th {\n",
       "        text-align: right;\n",
       "    }\n",
       "</style>\n",
       "<table border=\"1\" class=\"dataframe\">\n",
       "  <thead>\n",
       "    <tr style=\"text-align: right;\">\n",
       "      <th></th>\n",
       "      <th>volume</th>\n",
       "      <th>most_expensive_nft_id</th>\n",
       "      <th>volume_eth</th>\n",
       "      <th>max_price</th>\n",
       "      <th>mean_price</th>\n",
       "      <th>median_price</th>\n",
       "    </tr>\n",
       "  </thead>\n",
       "  <tbody>\n",
       "    <tr>\n",
       "      <th>count</th>\n",
       "      <td>30616.000000</td>\n",
       "      <td>3.061600e+04</td>\n",
       "      <td>3.061600e+04</td>\n",
       "      <td>3.061600e+04</td>\n",
       "      <td>3.061600e+04</td>\n",
       "      <td>3.061600e+04</td>\n",
       "    </tr>\n",
       "    <tr>\n",
       "      <th>mean</th>\n",
       "      <td>19.262934</td>\n",
       "      <td>5.177099e+07</td>\n",
       "      <td>1.483448e+04</td>\n",
       "      <td>9.140426e+03</td>\n",
       "      <td>5.483658e+03</td>\n",
       "      <td>7.246122e+03</td>\n",
       "    </tr>\n",
       "    <tr>\n",
       "      <th>std</th>\n",
       "      <td>123.264888</td>\n",
       "      <td>1.371643e+07</td>\n",
       "      <td>9.807506e+05</td>\n",
       "      <td>6.144587e+05</td>\n",
       "      <td>3.819252e+05</td>\n",
       "      <td>5.673243e+05</td>\n",
       "    </tr>\n",
       "    <tr>\n",
       "      <th>min</th>\n",
       "      <td>1.000000</td>\n",
       "      <td>3.230500e+04</td>\n",
       "      <td>0.000000e+00</td>\n",
       "      <td>0.000000e+00</td>\n",
       "      <td>0.000000e+00</td>\n",
       "      <td>0.000000e+00</td>\n",
       "    </tr>\n",
       "    <tr>\n",
       "      <th>25%</th>\n",
       "      <td>1.000000</td>\n",
       "      <td>4.308371e+07</td>\n",
       "      <td>7.000000e-03</td>\n",
       "      <td>5.000000e-03</td>\n",
       "      <td>3.000000e-03</td>\n",
       "      <td>2.835684e-03</td>\n",
       "    </tr>\n",
       "    <tr>\n",
       "      <th>50%</th>\n",
       "      <td>2.000000</td>\n",
       "      <td>5.660842e+07</td>\n",
       "      <td>5.500000e-02</td>\n",
       "      <td>3.190000e-02</td>\n",
       "      <td>2.933333e-02</td>\n",
       "      <td>2.499694e-02</td>\n",
       "    </tr>\n",
       "    <tr>\n",
       "      <th>75%</th>\n",
       "      <td>6.000000</td>\n",
       "      <td>6.307696e+07</td>\n",
       "      <td>4.260000e-01</td>\n",
       "      <td>1.700000e-01</td>\n",
       "      <td>1.000000e-01</td>\n",
       "      <td>9.995839e-02</td>\n",
       "    </tr>\n",
       "    <tr>\n",
       "      <th>max</th>\n",
       "      <td>7695.000000</td>\n",
       "      <td>6.776599e+07</td>\n",
       "      <td>9.000000e+07</td>\n",
       "      <td>7.500000e+07</td>\n",
       "      <td>3.750000e+07</td>\n",
       "      <td>7.500052e+07</td>\n",
       "    </tr>\n",
       "  </tbody>\n",
       "</table>\n",
       "</div>"
      ],
      "text/plain": [
       "             volume  most_expensive_nft_id    volume_eth     max_price  \\\n",
       "count  30616.000000           3.061600e+04  3.061600e+04  3.061600e+04   \n",
       "mean      19.262934           5.177099e+07  1.483448e+04  9.140426e+03   \n",
       "std      123.264888           1.371643e+07  9.807506e+05  6.144587e+05   \n",
       "min        1.000000           3.230500e+04  0.000000e+00  0.000000e+00   \n",
       "25%        1.000000           4.308371e+07  7.000000e-03  5.000000e-03   \n",
       "50%        2.000000           5.660842e+07  5.500000e-02  3.190000e-02   \n",
       "75%        6.000000           6.307696e+07  4.260000e-01  1.700000e-01   \n",
       "max     7695.000000           6.776599e+07  9.000000e+07  7.500000e+07   \n",
       "\n",
       "         mean_price  median_price  \n",
       "count  3.061600e+04  3.061600e+04  \n",
       "mean   5.483658e+03  7.246122e+03  \n",
       "std    3.819252e+05  5.673243e+05  \n",
       "min    0.000000e+00  0.000000e+00  \n",
       "25%    3.000000e-03  2.835684e-03  \n",
       "50%    2.933333e-02  2.499694e-02  \n",
       "75%    1.000000e-01  9.995839e-02  \n",
       "max    3.750000e+07  7.500052e+07  "
      ]
     },
     "execution_count": 90,
     "metadata": {},
     "output_type": "execute_result"
    }
   ],
   "source": [
    "test_nft_data.describe()"
   ]
  },
  {
   "cell_type": "code",
   "execution_count": 83,
   "id": "2a656659-7eb0-4181-bedc-7014c8ee3e32",
   "metadata": {},
   "outputs": [
    {
     "data": {
      "text/plain": [
       "<AxesSubplot: >"
      ]
     },
     "execution_count": 83,
     "metadata": {},
     "output_type": "execute_result"
    },
    {
     "data": {
      "image/png": "[encoded data removed]",
      "text/plain": [
       "<Figure size 640x480 with 1 Axes>"
      ]
     },
     "metadata": {},
     "output_type": "display_data"
    }
   ],
   "source": [
    "test_nft_data.sort_values(\"volume_eth\").iloc[:-1][\"volume_eth\"].hist(bins=10)"
   ]
  },
  {
   "cell_type": "code",
   "execution_count": 87,
   "id": "292ddb62-3843-4acf-9e1e-7640d5424607",
   "metadata": {},
   "outputs": [],
   "source": [
    "df = test_nft_data[test_nft_data[\"volume_eth\"]>0].sort_values(\"volume_eth\")"
   ]
  },
  {
   "cell_type": "code",
   "execution_count": 85,
   "id": "3db1c782-e3aa-4e3a-a140-f4fe57adfb4c",
   "metadata": {},
   "outputs": [],
   "source": [
    "df_usd = df.copy()\n",
    "df_usd[\"volume_eth\"] = df_usd[\"volume_eth\"]"
   ]
  },
  {
   "cell_type": "code",
   "execution_count": 88,
   "id": "ffebc2e2-f53e-45fd-8638-5942008eb72d",
   "metadata": {},
   "outputs": [
    {
     "data": {
      "text/plain": [
       "<AxesSubplot: >"
      ]
     },
     "execution_count": 88,
     "metadata": {},
     "output_type": "execute_result"
    },
    {
     "data": {
      "image/png": "[encoded data removed]",
      "text/plain": [
       "<Figure size 640x480 with 1 Axes>"
      ]
     },
     "metadata": {},
     "output_type": "display_data"
    }
   ],
   "source": [
    "df_usd[\"volume_eth\"].hist()"
   ]
  },
  {
   "cell_type": "code",
   "execution_count": null,
   "id": "8431d868-1c4e-44ae-9bc5-cea6686cb025",
   "metadata": {},
   "outputs": [],
   "source": []
  }
 ],
 "metadata": {
  "kernelspec": {
   "display_name": "bachelor-thesis",
   "language": "python",
   "name": "bachelor-thesis"
  },
  "language_info": {
   "codemirror_mode": {
    "name": "ipython",
    "version": 3
   },
   "file_extension": ".py",
   "mimetype": "text/x-python",
   "name": "python",
   "nbconvert_exporter": "python",
   "pygments_lexer": "ipython3",
   "version": "3.9.13"
  }
 },
 "nbformat": 4,
 "nbformat_minor": 5
}
