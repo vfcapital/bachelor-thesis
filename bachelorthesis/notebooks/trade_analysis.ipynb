{
 "cells": [
  {
   "cell_type": "code",
   "execution_count": 1,
   "id": "f73537f9",
   "metadata": {},
   "outputs": [],
   "source": [
    "%load_ext autoreload\n",
    "%autoreload 2\n",
    "\n",
    "import os\n",
    "import warnings\n",
    "\n",
    "warnings.filterwarnings(\"ignore\")\n",
    "os.chdir(\"../\")"
   ]
  },
  {
   "cell_type": "code",
   "execution_count": 45,
   "id": "4bcb2f35",
   "metadata": {},
   "outputs": [],
   "source": [
    "import datetime\n",
    "\n",
    "import matplotlib.dates as mdates\n",
    "import matplotlib.pylab as plt\n",
    "import matplotlib.pyplot as plt\n",
    "import numpy as np\n",
    "import pandas as pd\n",
    "import seaborn as sns\n",
    "from scipy.spatial.distance import cdist, euclidean, pdist\n",
    "from sklearn import metrics\n",
    "from sklearn.cluster import AffinityPropagation, KMeans, affinity_propagation\n",
    "from sklearn.covariance import GraphicalLassoCV\n",
    "from sklearn.decomposition import PCA\n",
    "from sklearn.metrics import silhouette_samples, silhouette_score\n",
    "from sklearn.preprocessing import StandardScaler"
   ]
  },
  {
   "cell_type": "code",
   "execution_count": 3,
   "id": "4a24f6da-c2be-4c42-9d56-9088eb5ab085",
   "metadata": {},
   "outputs": [],
   "source": [
    "nft_trades = pd.read_csv(\"historic_data/profits.csv\", low_memory=False).set_index(\n",
    "    [\"nft_id\", \"trade_no\"]\n",
    ")\n",
    "nft_trades[\"holding_period\"] = pd.to_timedelta(nft_trades[\"holding_period\"]).dt.days"
   ]
  },
  {
   "cell_type": "code",
   "execution_count": 4,
   "id": "bc6750d2",
   "metadata": {},
   "outputs": [
    {
     "data": {
      "text/html": [
       "<div>\n",
       "<style scoped>\n",
       "    .dataframe tbody tr th:only-of-type {\n",
       "        vertical-align: middle;\n",
       "    }\n",
       "\n",
       "    .dataframe tbody tr th {\n",
       "        vertical-align: top;\n",
       "    }\n",
       "\n",
       "    .dataframe thead th {\n",
       "        text-align: right;\n",
       "    }\n",
       "</style>\n",
       "<table border=\"1\" class=\"dataframe\">\n",
       "  <thead>\n",
       "    <tr style=\"text-align: right;\">\n",
       "      <th></th>\n",
       "      <th></th>\n",
       "      <th>purchase_date</th>\n",
       "      <th>sell_date</th>\n",
       "      <th>holding_period</th>\n",
       "      <th>purchase_price_eth</th>\n",
       "      <th>sell_price_eth</th>\n",
       "      <th>profit_eth</th>\n",
       "      <th>purchase_price_usd</th>\n",
       "      <th>sell_price_usd</th>\n",
       "      <th>profit_usd</th>\n",
       "      <th>collection</th>\n",
       "      <th>from_address</th>\n",
       "      <th>to_address</th>\n",
       "      <th>purchase_hash</th>\n",
       "      <th>sell_hash</th>\n",
       "    </tr>\n",
       "    <tr>\n",
       "      <th>nft_id</th>\n",
       "      <th>trade_no</th>\n",
       "      <th></th>\n",
       "      <th></th>\n",
       "      <th></th>\n",
       "      <th></th>\n",
       "      <th></th>\n",
       "      <th></th>\n",
       "      <th></th>\n",
       "      <th></th>\n",
       "      <th></th>\n",
       "      <th></th>\n",
       "      <th></th>\n",
       "      <th></th>\n",
       "      <th></th>\n",
       "      <th></th>\n",
       "    </tr>\n",
       "  </thead>\n",
       "  <tbody>\n",
       "    <tr>\n",
       "      <th>0xmons.xyz_103</th>\n",
       "      <th>1</th>\n",
       "      <td>2021-03-14</td>\n",
       "      <td>2021-08-01</td>\n",
       "      <td>140</td>\n",
       "      <td>6.00</td>\n",
       "      <td>5.000</td>\n",
       "      <td>-0.166667</td>\n",
       "      <td>11092.14</td>\n",
       "      <td>12782.05</td>\n",
       "      <td>0.152352</td>\n",
       "      <td>0xmons.xyz</td>\n",
       "      <td>0xfaf1031b02a994b80f12cc1ee4c0dcebbb946aa0</td>\n",
       "      <td>0x73ffce54ce7d21397a7932d9bc2a7e013ff30902</td>\n",
       "      <td>0xb4f8ec6ac9cd76de994c2912923ea09e0094be165913...</td>\n",
       "      <td>0x8a3fb6eec565e1f997881ea2b40bd778f21cf3f50fd8...</td>\n",
       "    </tr>\n",
       "    <tr>\n",
       "      <th>0xmons.xyz_118</th>\n",
       "      <th>1</th>\n",
       "      <td>2021-04-01</td>\n",
       "      <td>2021-12-04</td>\n",
       "      <td>247</td>\n",
       "      <td>7.99</td>\n",
       "      <td>12.000</td>\n",
       "      <td>0.501877</td>\n",
       "      <td>15721.68</td>\n",
       "      <td>49491.12</td>\n",
       "      <td>2.147954</td>\n",
       "      <td>0xmons.xyz</td>\n",
       "      <td>0x2117c37a65ad3c0489682386f7d81d4c6d08b3c8</td>\n",
       "      <td>0x947e1bbcbf8a67a9f7a393adf93179baaf0cccdc</td>\n",
       "      <td>0xa8cf0256bfcf5359365bd360f94cd6f76ba52c0b2053...</td>\n",
       "      <td>0xbccbf4cae59258731825c74cf7cad7243663732bfb77...</td>\n",
       "    </tr>\n",
       "    <tr>\n",
       "      <th>0xmons.xyz_126</th>\n",
       "      <th>1</th>\n",
       "      <td>2021-03-11</td>\n",
       "      <td>2021-08-07</td>\n",
       "      <td>149</td>\n",
       "      <td>5.55</td>\n",
       "      <td>7.770</td>\n",
       "      <td>0.400000</td>\n",
       "      <td>10140.18</td>\n",
       "      <td>24572.08</td>\n",
       "      <td>1.423239</td>\n",
       "      <td>0xmons.xyz</td>\n",
       "      <td>0xfaf1031b02a994b80f12cc1ee4c0dcebbb946aa0</td>\n",
       "      <td>0xd6d7ea4833f22edbed3dbd3d71adf3cdd8e36a01</td>\n",
       "      <td>0xaf9ca732b6ee7f0814705b68e814ce5e2e30d534ae8e...</td>\n",
       "      <td>0xb0c5c0bdd560e2c7cfac59029e705496cf4bb575b38e...</td>\n",
       "    </tr>\n",
       "    <tr>\n",
       "      <th>0xmons.xyz_127</th>\n",
       "      <th>1</th>\n",
       "      <td>2022-01-01</td>\n",
       "      <td>2022-02-12</td>\n",
       "      <td>42</td>\n",
       "      <td>21.00</td>\n",
       "      <td>19.069</td>\n",
       "      <td>-0.091952</td>\n",
       "      <td>79101.54</td>\n",
       "      <td>55649.83</td>\n",
       "      <td>-0.296476</td>\n",
       "      <td>0xmons.xyz</td>\n",
       "      <td>0x7260f7927a25949c15b7c4cbcf936510bf34c81b</td>\n",
       "      <td>0xb96a4bc4ae0bad1043feb96147fc18b17176b138</td>\n",
       "      <td>0xebb2398cdbdc822e695b4fafc8cf8604c18a609cef81...</td>\n",
       "      <td>0x7438a5d06720f8f25008807513476862965a7e2374d5...</td>\n",
       "    </tr>\n",
       "    <tr>\n",
       "      <th>0xmons.xyz_129</th>\n",
       "      <th>1</th>\n",
       "      <td>2021-02-20</td>\n",
       "      <td>2021-09-17</td>\n",
       "      <td>209</td>\n",
       "      <td>9.99</td>\n",
       "      <td>21.000</td>\n",
       "      <td>1.102102</td>\n",
       "      <td>19132.05</td>\n",
       "      <td>71375.22</td>\n",
       "      <td>2.730662</td>\n",
       "      <td>0xmons.xyz</td>\n",
       "      <td>0x11df180d9bdbe90fa51898b3d59959549d589426</td>\n",
       "      <td>0x7ce06dfb89aadec277f34fc575b3d735c593354e</td>\n",
       "      <td>0x2524b8a284df2f40fa885a071a4ad8e1cb515803d114...</td>\n",
       "      <td>0xa340d0c3b80a77b1d4de8beaeb17565dbd7e3eeefa84...</td>\n",
       "    </tr>\n",
       "  </tbody>\n",
       "</table>\n",
       "</div>"
      ],
      "text/plain": [
       "                        purchase_date   sell_date  holding_period  \\\n",
       "nft_id         trade_no                                             \n",
       "0xmons.xyz_103 1           2021-03-14  2021-08-01             140   \n",
       "0xmons.xyz_118 1           2021-04-01  2021-12-04             247   \n",
       "0xmons.xyz_126 1           2021-03-11  2021-08-07             149   \n",
       "0xmons.xyz_127 1           2022-01-01  2022-02-12              42   \n",
       "0xmons.xyz_129 1           2021-02-20  2021-09-17             209   \n",
       "\n",
       "                         purchase_price_eth  sell_price_eth  profit_eth  \\\n",
       "nft_id         trade_no                                                   \n",
       "0xmons.xyz_103 1                       6.00           5.000   -0.166667   \n",
       "0xmons.xyz_118 1                       7.99          12.000    0.501877   \n",
       "0xmons.xyz_126 1                       5.55           7.770    0.400000   \n",
       "0xmons.xyz_127 1                      21.00          19.069   -0.091952   \n",
       "0xmons.xyz_129 1                       9.99          21.000    1.102102   \n",
       "\n",
       "                         purchase_price_usd  sell_price_usd  profit_usd  \\\n",
       "nft_id         trade_no                                                   \n",
       "0xmons.xyz_103 1                   11092.14        12782.05    0.152352   \n",
       "0xmons.xyz_118 1                   15721.68        49491.12    2.147954   \n",
       "0xmons.xyz_126 1                   10140.18        24572.08    1.423239   \n",
       "0xmons.xyz_127 1                   79101.54        55649.83   -0.296476   \n",
       "0xmons.xyz_129 1                   19132.05        71375.22    2.730662   \n",
       "\n",
       "                         collection  \\\n",
       "nft_id         trade_no               \n",
       "0xmons.xyz_103 1         0xmons.xyz   \n",
       "0xmons.xyz_118 1         0xmons.xyz   \n",
       "0xmons.xyz_126 1         0xmons.xyz   \n",
       "0xmons.xyz_127 1         0xmons.xyz   \n",
       "0xmons.xyz_129 1         0xmons.xyz   \n",
       "\n",
       "                                                       from_address  \\\n",
       "nft_id         trade_no                                               \n",
       "0xmons.xyz_103 1         0xfaf1031b02a994b80f12cc1ee4c0dcebbb946aa0   \n",
       "0xmons.xyz_118 1         0x2117c37a65ad3c0489682386f7d81d4c6d08b3c8   \n",
       "0xmons.xyz_126 1         0xfaf1031b02a994b80f12cc1ee4c0dcebbb946aa0   \n",
       "0xmons.xyz_127 1         0x7260f7927a25949c15b7c4cbcf936510bf34c81b   \n",
       "0xmons.xyz_129 1         0x11df180d9bdbe90fa51898b3d59959549d589426   \n",
       "\n",
       "                                                         to_address  \\\n",
       "nft_id         trade_no                                               \n",
       "0xmons.xyz_103 1         0x73ffce54ce7d21397a7932d9bc2a7e013ff30902   \n",
       "0xmons.xyz_118 1         0x947e1bbcbf8a67a9f7a393adf93179baaf0cccdc   \n",
       "0xmons.xyz_126 1         0xd6d7ea4833f22edbed3dbd3d71adf3cdd8e36a01   \n",
       "0xmons.xyz_127 1         0xb96a4bc4ae0bad1043feb96147fc18b17176b138   \n",
       "0xmons.xyz_129 1         0x7ce06dfb89aadec277f34fc575b3d735c593354e   \n",
       "\n",
       "                                                             purchase_hash  \\\n",
       "nft_id         trade_no                                                      \n",
       "0xmons.xyz_103 1         0xb4f8ec6ac9cd76de994c2912923ea09e0094be165913...   \n",
       "0xmons.xyz_118 1         0xa8cf0256bfcf5359365bd360f94cd6f76ba52c0b2053...   \n",
       "0xmons.xyz_126 1         0xaf9ca732b6ee7f0814705b68e814ce5e2e30d534ae8e...   \n",
       "0xmons.xyz_127 1         0xebb2398cdbdc822e695b4fafc8cf8604c18a609cef81...   \n",
       "0xmons.xyz_129 1         0x2524b8a284df2f40fa885a071a4ad8e1cb515803d114...   \n",
       "\n",
       "                                                                 sell_hash  \n",
       "nft_id         trade_no                                                     \n",
       "0xmons.xyz_103 1         0x8a3fb6eec565e1f997881ea2b40bd778f21cf3f50fd8...  \n",
       "0xmons.xyz_118 1         0xbccbf4cae59258731825c74cf7cad7243663732bfb77...  \n",
       "0xmons.xyz_126 1         0xb0c5c0bdd560e2c7cfac59029e705496cf4bb575b38e...  \n",
       "0xmons.xyz_127 1         0x7438a5d06720f8f25008807513476862965a7e2374d5...  \n",
       "0xmons.xyz_129 1         0xa340d0c3b80a77b1d4de8beaeb17565dbd7e3eeefa84...  "
      ]
     },
     "execution_count": 4,
     "metadata": {},
     "output_type": "execute_result"
    }
   ],
   "source": [
    "nft_trades.head()"
   ]
  },
  {
   "cell_type": "code",
   "execution_count": 51,
   "id": "e9d8c1d8",
   "metadata": {},
   "outputs": [
    {
     "data": {
      "image/png": "[encoded data removed]",
      "text/plain": [
       "<Figure size 640x480 with 1 Axes>"
      ]
     },
     "metadata": {},
     "output_type": "display_data"
    }
   ],
   "source": [
    "nft_trades[\"sell_date\"] = pd.to_datetime(nft_trades[\"sell_date\"])\n",
    "ax = (\n",
    "    nft_trades[[\"sell_date\", \"profit_usd\"]]\n",
    "    .groupby(\"sell_date\")\n",
    "    .count()\n",
    "    .rename(columns={\"profit_usd\": \"Count of Trades\"})\n",
    "    .loc[\"2021-01-01\":].reset_index()\n",
    "    .plot.scatter(x=\"sell_date\", y=\"Count of Trades\", grid=True, xlabel=\"\", marker=\".\",color=\"b\")\n",
    ")\n",
    "ax.xaxis.set_major_locator(mdates.MonthLocator([3, 9]))\n",
    "ax.xaxis.set_major_formatter(mdates.DateFormatter(\"\\n%b\\n%Y\"))\n",
    "plt.show()"
   ]
  },
  {
   "cell_type": "code",
   "execution_count": 44,
   "id": "efecf2a7",
   "metadata": {},
   "outputs": [],
   "source": [
    "# keep float numbers only\n",
    "trades = nft_trades[\n",
    "    [\n",
    "        \"holding_period\",\n",
    "        \"purchase_price_eth\",\n",
    "        \"sell_price_eth\",\n",
    "        \"profit_eth\",\n",
    "        \"purchase_price_usd\",\n",
    "        \"sell_price_usd\",\n",
    "        \"profit_usd\",\n",
    "    ]\n",
    "]\n",
    "trades_array = trades.astype(float).values\n",
    "\n",
    "# normalize\n",
    "trades_array_norm = (trades_array - trades_array.mean()) / trades_array.std()\n",
    "\n",
    "nft_labels = np.array(trades.columns).T\n",
    "\n",
    "X = StandardScaler().fit_transform(trades_array_norm)"
   ]
  },
  {
   "cell_type": "code",
   "execution_count": 6,
   "id": "2802c7c2",
   "metadata": {},
   "outputs": [
    {
     "data": {
      "text/html": [
       "<style>#sk-container-id-1 {color: black;background-color: white;}#sk-container-id-1 pre{padding: 0;}#sk-container-id-1 div.sk-toggleable {background-color: white;}#sk-container-id-1 label.sk-toggleable__label {cursor: pointer;display: block;width: 100%;margin-bottom: 0;padding: 0.3em;box-sizing: border-box;text-align: center;}#sk-container-id-1 label.sk-toggleable__label-arrow:before {content: \"▸\";float: left;margin-right: 0.25em;color: #696969;}#sk-container-id-1 label.sk-toggleable__label-arrow:hover:before {color: black;}#sk-container-id-1 div.sk-estimator:hover label.sk-toggleable__label-arrow:before {color: black;}#sk-container-id-1 div.sk-toggleable__content {max-height: 0;max-width: 0;overflow: hidden;text-align: left;background-color: #f0f8ff;}#sk-container-id-1 div.sk-toggleable__content pre {margin: 0.2em;color: black;border-radius: 0.25em;background-color: #f0f8ff;}#sk-container-id-1 input.sk-toggleable__control:checked~div.sk-toggleable__content {max-height: 200px;max-width: 100%;overflow: auto;}#sk-container-id-1 input.sk-toggleable__control:checked~label.sk-toggleable__label-arrow:before {content: \"▾\";}#sk-container-id-1 div.sk-estimator input.sk-toggleable__control:checked~label.sk-toggleable__label {background-color: #d4ebff;}#sk-container-id-1 div.sk-label input.sk-toggleable__control:checked~label.sk-toggleable__label {background-color: #d4ebff;}#sk-container-id-1 input.sk-hidden--visually {border: 0;clip: rect(1px 1px 1px 1px);clip: rect(1px, 1px, 1px, 1px);height: 1px;margin: -1px;overflow: hidden;padding: 0;position: absolute;width: 1px;}#sk-container-id-1 div.sk-estimator {font-family: monospace;background-color: #f0f8ff;border: 1px dotted black;border-radius: 0.25em;box-sizing: border-box;margin-bottom: 0.5em;}#sk-container-id-1 div.sk-estimator:hover {background-color: #d4ebff;}#sk-container-id-1 div.sk-parallel-item::after {content: \"\";width: 100%;border-bottom: 1px solid gray;flex-grow: 1;}#sk-container-id-1 div.sk-label:hover label.sk-toggleable__label {background-color: #d4ebff;}#sk-container-id-1 div.sk-serial::before {content: \"\";position: absolute;border-left: 1px solid gray;box-sizing: border-box;top: 0;bottom: 0;left: 50%;z-index: 0;}#sk-container-id-1 div.sk-serial {display: flex;flex-direction: column;align-items: center;background-color: white;padding-right: 0.2em;padding-left: 0.2em;position: relative;}#sk-container-id-1 div.sk-item {position: relative;z-index: 1;}#sk-container-id-1 div.sk-parallel {display: flex;align-items: stretch;justify-content: center;background-color: white;position: relative;}#sk-container-id-1 div.sk-item::before, #sk-container-id-1 div.sk-parallel-item::before {content: \"\";position: absolute;border-left: 1px solid gray;box-sizing: border-box;top: 0;bottom: 0;left: 50%;z-index: -1;}#sk-container-id-1 div.sk-parallel-item {display: flex;flex-direction: column;z-index: 1;position: relative;background-color: white;}#sk-container-id-1 div.sk-parallel-item:first-child::after {align-self: flex-end;width: 50%;}#sk-container-id-1 div.sk-parallel-item:last-child::after {align-self: flex-start;width: 50%;}#sk-container-id-1 div.sk-parallel-item:only-child::after {width: 0;}#sk-container-id-1 div.sk-dashed-wrapped {border: 1px dashed gray;margin: 0 0.4em 0.5em 0.4em;box-sizing: border-box;padding-bottom: 0.4em;background-color: white;}#sk-container-id-1 div.sk-label label {font-family: monospace;font-weight: bold;display: inline-block;line-height: 1.2em;}#sk-container-id-1 div.sk-label-container {text-align: center;}#sk-container-id-1 div.sk-container {/* jupyter's `normalize.less` sets `[hidden] { display: none; }` but bootstrap.min.css set `[hidden] { display: none !important; }` so we also need the `!important` here to be able to override the default hidden behavior on the sphinx rendered scikit-learn.org. See: https://github.com/scikit-learn/scikit-learn/issues/21755 */display: inline-block !important;position: relative;}#sk-container-id-1 div.sk-text-repr-fallback {display: none;}</style><div id=\"sk-container-id-1\" class=\"sk-top-container\"><div class=\"sk-text-repr-fallback\"><pre>GraphicalLassoCV()</pre><b>In a Jupyter environment, please rerun this cell to show the HTML representation or trust the notebook. <br />On GitHub, the HTML representation is unable to render, please try loading this page with nbviewer.org.</b></div><div class=\"sk-container\" hidden><div class=\"sk-item\"><div class=\"sk-estimator sk-toggleable\"><input class=\"sk-toggleable__control sk-hidden--visually\" id=\"sk-estimator-id-1\" type=\"checkbox\" checked><label for=\"sk-estimator-id-1\" class=\"sk-toggleable__label sk-toggleable__label-arrow\">GraphicalLassoCV</label><div class=\"sk-toggleable__content\"><pre>GraphicalLassoCV()</pre></div></div></div></div></div>"
      ],
      "text/plain": [
       "GraphicalLassoCV()"
      ]
     },
     "execution_count": 6,
     "metadata": {},
     "output_type": "execute_result"
    }
   ],
   "source": [
    "edge_model = GraphicalLassoCV()\n",
    "edge_model.fit(X)"
   ]
  },
  {
   "cell_type": "code",
   "execution_count": 11,
   "id": "d9e757d4",
   "metadata": {},
   "outputs": [],
   "source": [
    "from sklearn import cluster"
   ]
  },
  {
   "cell_type": "code",
   "execution_count": 17,
   "id": "9fea8703",
   "metadata": {},
   "outputs": [],
   "source": [
    "_, labels = affinity_propagation(edge_model.covariance_, random_state=0)\n",
    "n_labels = labels.max()"
   ]
  },
  {
   "cell_type": "code",
   "execution_count": 20,
   "id": "78f1f006",
   "metadata": {},
   "outputs": [
    {
     "name": "stdout",
     "output_type": "stream",
     "text": [
      "Cluster 1: holding_period\n",
      "Cluster 2: purchase_price_eth, sell_price_eth, purchase_price_usd, sell_price_usd\n",
      "Cluster 3: profit_eth, profit_usd\n"
     ]
    }
   ],
   "source": [
    "for i in range(n_labels + 1):\n",
    "    print(\"Cluster %i: %s\" % ((i + 1), \", \".join(nft_labels[labels == i])))"
   ]
  },
  {
   "cell_type": "code",
   "execution_count": 21,
   "id": "37ce4804",
   "metadata": {},
   "outputs": [
    {
     "ename": "MemoryError",
     "evalue": "Unable to allocate 555. GiB for an array with shape (272978, 272978) and data type float64",
     "output_type": "error",
     "traceback": [
      "\u001b[0;31m---------------------------------------------------------------------------\u001b[0m",
      "\u001b[0;31mMemoryError\u001b[0m                               Traceback (most recent call last)",
      "Cell \u001b[0;32mIn [21], line 1\u001b[0m\n\u001b[0;32m----> 1\u001b[0m af \u001b[38;5;241m=\u001b[39m \u001b[43mAffinityPropagation\u001b[49m\u001b[43m(\u001b[49m\u001b[43mpreference\u001b[49m\u001b[38;5;241;43m=\u001b[39;49m\u001b[38;5;241;43m-\u001b[39;49m\u001b[38;5;241;43m50\u001b[39;49m\u001b[43m,\u001b[49m\u001b[43m \u001b[49m\u001b[43mrandom_state\u001b[49m\u001b[38;5;241;43m=\u001b[39;49m\u001b[38;5;241;43m0\u001b[39;49m\u001b[43m)\u001b[49m\u001b[38;5;241;43m.\u001b[39;49m\u001b[43mfit\u001b[49m\u001b[43m(\u001b[49m\u001b[43mX\u001b[49m\u001b[43m)\u001b[49m\n\u001b[1;32m      2\u001b[0m cluster_centers_indices \u001b[38;5;241m=\u001b[39m af\u001b[38;5;241m.\u001b[39mcluster_centers_indices_\n\u001b[1;32m      3\u001b[0m labels \u001b[38;5;241m=\u001b[39m af\u001b[38;5;241m.\u001b[39mlabels_\n",
      "File \u001b[0;32m~/.pyenv/versions/3.10.6/lib/python3.10/site-packages/sklearn/cluster/_affinity_propagation.py:460\u001b[0m, in \u001b[0;36mAffinityPropagation.fit\u001b[0;34m(self, X, y)\u001b[0m\n\u001b[1;32m    458\u001b[0m     \u001b[39mself\u001b[39m\u001b[39m.\u001b[39maffinity_matrix_ \u001b[39m=\u001b[39m X\n\u001b[1;32m    459\u001b[0m \u001b[39melif\u001b[39;00m \u001b[39mself\u001b[39m\u001b[39m.\u001b[39maffinity \u001b[39m==\u001b[39m \u001b[39m\"\u001b[39m\u001b[39meuclidean\u001b[39m\u001b[39m\"\u001b[39m:\n\u001b[0;32m--> 460\u001b[0m     \u001b[39mself\u001b[39m\u001b[39m.\u001b[39maffinity_matrix_ \u001b[39m=\u001b[39m \u001b[39m-\u001b[39meuclidean_distances(X, squared\u001b[39m=\u001b[39;49m\u001b[39mTrue\u001b[39;49;00m)\n\u001b[1;32m    461\u001b[0m \u001b[39melse\u001b[39;00m:\n\u001b[1;32m    462\u001b[0m     \u001b[39mraise\u001b[39;00m \u001b[39mValueError\u001b[39;00m(\n\u001b[1;32m    463\u001b[0m         \u001b[39m\"\u001b[39m\u001b[39mAffinity must be \u001b[39m\u001b[39m'\u001b[39m\u001b[39mprecomputed\u001b[39m\u001b[39m'\u001b[39m\u001b[39m or \u001b[39m\u001b[39m'\u001b[39m\u001b[39meuclidean\u001b[39m\u001b[39m'\u001b[39m\u001b[39m. Got \u001b[39m\u001b[39m%s\u001b[39;00m\u001b[39m instead\u001b[39m\u001b[39m\"\u001b[39m\n\u001b[1;32m    464\u001b[0m         \u001b[39m%\u001b[39m \u001b[39mstr\u001b[39m(\u001b[39mself\u001b[39m\u001b[39m.\u001b[39maffinity)\n\u001b[1;32m    465\u001b[0m     )\n",
      "File \u001b[0;32m~/.pyenv/versions/3.10.6/lib/python3.10/site-packages/sklearn/metrics/pairwise.py:328\u001b[0m, in \u001b[0;36meuclidean_distances\u001b[0;34m(X, Y, Y_norm_squared, squared, X_norm_squared)\u001b[0m\n\u001b[1;32m    322\u001b[0m     \u001b[39mif\u001b[39;00m Y_norm_squared\u001b[39m.\u001b[39mshape \u001b[39m!=\u001b[39m (\u001b[39m1\u001b[39m, Y\u001b[39m.\u001b[39mshape[\u001b[39m0\u001b[39m]):\n\u001b[1;32m    323\u001b[0m         \u001b[39mraise\u001b[39;00m \u001b[39mValueError\u001b[39;00m(\n\u001b[1;32m    324\u001b[0m             \u001b[39mf\u001b[39m\u001b[39m\"\u001b[39m\u001b[39mIncompatible dimensions for Y of shape \u001b[39m\u001b[39m{\u001b[39;00mY\u001b[39m.\u001b[39mshape\u001b[39m}\u001b[39;00m\u001b[39m and \u001b[39m\u001b[39m\"\u001b[39m\n\u001b[1;32m    325\u001b[0m             \u001b[39mf\u001b[39m\u001b[39m\"\u001b[39m\u001b[39mY_norm_squared of shape \u001b[39m\u001b[39m{\u001b[39;00moriginal_shape\u001b[39m}\u001b[39;00m\u001b[39m.\u001b[39m\u001b[39m\"\u001b[39m\n\u001b[1;32m    326\u001b[0m         )\n\u001b[0;32m--> 328\u001b[0m \u001b[39mreturn\u001b[39;00m _euclidean_distances(X, Y, X_norm_squared, Y_norm_squared, squared)\n",
      "File \u001b[0;32m~/.pyenv/versions/3.10.6/lib/python3.10/site-packages/sklearn/metrics/pairwise.py:369\u001b[0m, in \u001b[0;36m_euclidean_distances\u001b[0;34m(X, Y, X_norm_squared, Y_norm_squared, squared)\u001b[0m\n\u001b[1;32m    366\u001b[0m     distances \u001b[39m=\u001b[39m _euclidean_distances_upcast(X, XX, Y, YY)\n\u001b[1;32m    367\u001b[0m \u001b[39melse\u001b[39;00m:\n\u001b[1;32m    368\u001b[0m     \u001b[39m# if dtype is already float64, no need to chunk and upcast\u001b[39;00m\n\u001b[0;32m--> 369\u001b[0m     distances \u001b[39m=\u001b[39m \u001b[39m-\u001b[39m\u001b[39m2\u001b[39m \u001b[39m*\u001b[39m safe_sparse_dot(X, Y\u001b[39m.\u001b[39;49mT, dense_output\u001b[39m=\u001b[39;49m\u001b[39mTrue\u001b[39;49;00m)\n\u001b[1;32m    370\u001b[0m     distances \u001b[39m+\u001b[39m\u001b[39m=\u001b[39m XX\n\u001b[1;32m    371\u001b[0m     distances \u001b[39m+\u001b[39m\u001b[39m=\u001b[39m YY\n",
      "File \u001b[0;32m~/.pyenv/versions/3.10.6/lib/python3.10/site-packages/sklearn/utils/extmath.py:152\u001b[0m, in \u001b[0;36msafe_sparse_dot\u001b[0;34m(a, b, dense_output)\u001b[0m\n\u001b[1;32m    150\u001b[0m         ret \u001b[39m=\u001b[39m np\u001b[39m.\u001b[39mdot(a, b)\n\u001b[1;32m    151\u001b[0m \u001b[39melse\u001b[39;00m:\n\u001b[0;32m--> 152\u001b[0m     ret \u001b[39m=\u001b[39m a \u001b[39m@\u001b[39;49m b\n\u001b[1;32m    154\u001b[0m \u001b[39mif\u001b[39;00m (\n\u001b[1;32m    155\u001b[0m     sparse\u001b[39m.\u001b[39missparse(a)\n\u001b[1;32m    156\u001b[0m     \u001b[39mand\u001b[39;00m sparse\u001b[39m.\u001b[39missparse(b)\n\u001b[1;32m    157\u001b[0m     \u001b[39mand\u001b[39;00m dense_output\n\u001b[1;32m    158\u001b[0m     \u001b[39mand\u001b[39;00m \u001b[39mhasattr\u001b[39m(ret, \u001b[39m\"\u001b[39m\u001b[39mtoarray\u001b[39m\u001b[39m\"\u001b[39m)\n\u001b[1;32m    159\u001b[0m ):\n\u001b[1;32m    160\u001b[0m     \u001b[39mreturn\u001b[39;00m ret\u001b[39m.\u001b[39mtoarray()\n",
      "\u001b[0;31mMemoryError\u001b[0m: Unable to allocate 555. GiB for an array with shape (272978, 272978) and data type float64"
     ]
    }
   ],
   "source": [
    "af = AffinityPropagation(preference=-50, random_state=0).fit(X)\n",
    "cluster_centers_indices = af.cluster_centers_indices_\n",
    "labels = af.labels_\n",
    "\n",
    "n_clusters_ = len(cluster_centers_indices)\n",
    "\n",
    "print(\"Estimated number of clusters: %d\" % n_clusters_)"
   ]
  },
  {
   "cell_type": "code",
   "execution_count": null,
   "id": "e72c4d83",
   "metadata": {},
   "outputs": [],
   "source": []
  }
 ],
 "metadata": {
  "kernelspec": {
   "display_name": "bachelor-thesis",
   "language": "python",
   "name": "bachelor-thesis"
  },
  "language_info": {
   "codemirror_mode": {
    "name": "ipython",
    "version": 3
   },
   "file_extension": ".py",
   "mimetype": "text/x-python",
   "name": "python",
   "nbconvert_exporter": "python",
   "pygments_lexer": "ipython3",
   "version": "3.10.6"
  }
 },
 "nbformat": 4,
 "nbformat_minor": 5
}
