{
 "cells": [
  {
   "cell_type": "code",
   "execution_count": 1,
   "id": "7f8e5d1c-785f-4712-9489-5637c2e94f22",
   "metadata": {},
   "outputs": [],
   "source": [
    "import pandas as pd\n",
    "import yaml"
   ]
  },
  {
   "cell_type": "code",
   "execution_count": 2,
   "id": "78e05e6e-1f4b-4898-8140-0044476e034d",
   "metadata": {},
   "outputs": [],
   "source": [
    "repo_path = \"/Users/viktor/python/bachelor-thesis/bachelorthesis/\""
   ]
  },
  {
   "cell_type": "code",
   "execution_count": 3,
   "id": "fa88c242-1d7e-46bd-80ad-a71b9b4b475a",
   "metadata": {},
   "outputs": [],
   "source": [
    "with open(repo_path + \"collections.yaml\", \"r\") as stream:\n",
    "    collections = yaml.safe_load(stream)"
   ]
  },
  {
   "cell_type": "code",
   "execution_count": 4,
   "id": "8f59d84e-864d-4f07-aee9-7be613ed8f71",
   "metadata": {},
   "outputs": [],
   "source": [
    "trades = []\n",
    "for collection in list(collections.keys()):\n",
    "    path = collections[collection][\"nft_trades_path\"]\n",
    "    if path != None:\n",
    "        df = pd.read_csv(repo_path + \"nft_trades/\" + path)\n",
    "        trades.append(df)"
   ]
  },
  {
   "cell_type": "code",
   "execution_count": 5,
   "id": "c7bc4dae-25ea-42cc-aaf8-61e19e5c16b2",
   "metadata": {},
   "outputs": [],
   "source": [
    "df = pd.concat(trades)"
   ]
  },
  {
   "cell_type": "code",
   "execution_count": 42,
   "id": "bda0f3a1-2dd4-4680-8a19-8ab579f23b93",
   "metadata": {},
   "outputs": [],
   "source": [
    "trades = (df\n",
    "          .drop([\"UnixTimestamp\", \"Unnamed: 0\", \"Txn Hash\", \"Buyer\", \"Quantity\", \"Market\", \"Type\"], axis=1)\n",
    "         ).reset_index(drop=True)"
   ]
  },
  {
   "cell_type": "code",
   "execution_count": 49,
   "id": "83d09d8b-8665-40d5-93de-ea491e7140d1",
   "metadata": {},
   "outputs": [],
   "source": [
    "trades[\"Date Time (UTC)\"] = pd.to_datetime(trades[\"Date Time (UTC)\"])"
   ]
  },
  {
   "cell_type": "code",
   "execution_count": 113,
   "id": "8a3f4b23-c019-482c-b0bd-71226846cf32",
   "metadata": {},
   "outputs": [],
   "source": [
    "trades[\"Price_ETH\"] = trades[trades[\"Price\"].str.contains(\"ETH\")][\"Price\"].str.split().apply(lambda x: x[0])\n",
    "trades[\"Price_USD\"] = trades[trades[\"Price\"].str.contains(\"USD\")][\"Price\"].str.split().apply(lambda x: x[0])\n",
    "trades[\"Price_DAI\"] = trades[trades[\"Price\"].str.contains(\"DAI\")][\"Price\"].str.split().apply(lambda x: x[0])"
   ]
  },
  {
   "cell_type": "code",
   "execution_count": 118,
   "id": "80449d6e-8f83-4040-8f43-229a772f3e9c",
   "metadata": {},
   "outputs": [
    {
     "data": {
      "text/plain": [
       "array(['WETH', 'ETH', 'XMON', 'USDC', 'DAI', 'WHALE', 'CHERRY', 'BONES',\n",
       "       'MNFT', 'WGM', 'UNI', 'BAEPAY', 'NCT', 'ASH', 'RARI', 'TATR',\n",
       "       'TRSH', '$BASED', 'MEME'], dtype=object)"
      ]
     },
     "execution_count": 118,
     "metadata": {},
     "output_type": "execute_result"
    }
   ],
   "source": [
    "trades.Price.str.split().apply(lambda x: x[1]).unique()"
   ]
  },
  {
   "cell_type": "code",
   "execution_count": null,
   "id": "b182593c-e2af-40ff-83ea-fd9daf20616e",
   "metadata": {},
   "outputs": [],
   "source": []
  }
 ],
 "metadata": {
  "kernelspec": {
   "display_name": "bachelor-thesis",
   "language": "python",
   "name": "bachelor-thesis"
  },
  "language_info": {
   "codemirror_mode": {
    "name": "ipython",
    "version": 3
   },
   "file_extension": ".py",
   "mimetype": "text/x-python",
   "name": "python",
   "nbconvert_exporter": "python",
   "pygments_lexer": "ipython3",
   "version": "3.9.13"
  }
 },
 "nbformat": 4,
 "nbformat_minor": 5
}
