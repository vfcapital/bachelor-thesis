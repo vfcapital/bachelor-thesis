{
 "cells": [
  {
   "cell_type": "code",
   "execution_count": null,
   "id": "7f8e5d1c-785f-4712-9489-5637c2e94f22",
   "metadata": {},
   "outputs": [],
   "source": [
    "import pandas as pd\n",
    "import numpy as np\n",
    "import matplotlib.pyplot as plt"
   ]
  },
  {
   "cell_type": "code",
   "execution_count": 2,
   "id": "ff8d91e2-af4d-48fd-aefa-0ce5ed480800",
   "metadata": {},
   "outputs": [],
   "source": [
    "trades = pd.read_csv(\"trades.csv\", low_memory=False).drop(\"Unnamed: 0\", axis = 1)\n",
    "trades.Quote = trades.Quote.str.replace(\",\", \"\").astype(float)\n",
    "trades[\"Currency\"] = trades[\"Currency\"].replace(\"WETH\", \"ETH\")\n",
    "trades = trades[(trades[\"Currency\"]==\"ETH\") & (trades[\"Quote\"]>0)]"
   ]
  },
  {
   "cell_type": "code",
   "execution_count": 3,
   "id": "75b8da7c-c805-45b6-8bec-d1a41835b776",
   "metadata": {},
   "outputs": [],
   "source": [
    "multi_trades = trades[trades[[\"NFT\", \"Token ID\"]].duplicated()].sort_values([\"NFT\", \"Token ID\"]).reset_index(drop=True).rename(columns={\"Date Time (UTC)\":\"timestamp\", \"Quote\":\"price_eth\"})"
   ]
  },
  {
   "cell_type": "code",
   "execution_count": 4,
   "id": "078a24ac-81d5-4a8f-b315-ecb0130e8606",
   "metadata": {},
   "outputs": [],
   "source": [
    "multi_trades[\"nft_id\"] = multi_trades[[\"NFT\", \"Token ID\"]].agg('_'.join, axis=1) "
   ]
  },
  {
   "cell_type": "code",
   "execution_count": 5,
   "id": "ec8bc09f-9aa3-46d7-854d-b3e1bf137a4b",
   "metadata": {},
   "outputs": [],
   "source": [
    "multi_trades_long = multi_trades.groupby(\"nft_id\").head(2).set_index([\"nft_id\"])[[\"timestamp\", \"price_eth\"]]"
   ]
  },
  {
   "cell_type": "code",
   "execution_count": 6,
   "id": "0353f3bf-9914-4c9d-9dd8-87eafe964b99",
   "metadata": {},
   "outputs": [
    {
     "data": {
      "text/plain": [
       "('NFTs:', 184893)"
      ]
     },
     "execution_count": 6,
     "metadata": {},
     "output_type": "execute_result"
    }
   ],
   "source": [
    "nft_count = len(multi_trades_long.reset_index()[\"nft_id\"].unique())\n",
    "\"NFTs:\", nft_count"
   ]
  },
  {
   "cell_type": "code",
   "execution_count": 7,
   "id": "aa27e86a-b52b-4e02-b046-92ea0e805f3d",
   "metadata": {},
   "outputs": [
    {
     "data": {
      "text/plain": [
       "('Trades:', 263914)"
      ]
     },
     "execution_count": 7,
     "metadata": {},
     "output_type": "execute_result"
    }
   ],
   "source": [
    "trade_count = len(multi_trades_long[\"price_eth\"].tolist())\n",
    "\"Trades:\", trade_count"
   ]
  },
  {
   "cell_type": "code",
   "execution_count": 8,
   "id": "67569446-9384-4083-80e3-1bfb6889a52a",
   "metadata": {},
   "outputs": [
    {
     "data": {
      "text/html": [
       "<div>\n",
       "<style scoped>\n",
       "    .dataframe tbody tr th:only-of-type {\n",
       "        vertical-align: middle;\n",
       "    }\n",
       "\n",
       "    .dataframe tbody tr th {\n",
       "        vertical-align: top;\n",
       "    }\n",
       "\n",
       "    .dataframe thead th {\n",
       "        text-align: right;\n",
       "    }\n",
       "</style>\n",
       "<table border=\"1\" class=\"dataframe\">\n",
       "  <thead>\n",
       "    <tr style=\"text-align: right;\">\n",
       "      <th></th>\n",
       "      <th>price_eth</th>\n",
       "    </tr>\n",
       "  </thead>\n",
       "  <tbody>\n",
       "    <tr>\n",
       "      <th>count</th>\n",
       "      <td>2.639140e+05</td>\n",
       "    </tr>\n",
       "    <tr>\n",
       "      <th>mean</th>\n",
       "      <td>2.516868e+00</td>\n",
       "    </tr>\n",
       "    <tr>\n",
       "      <th>std</th>\n",
       "      <td>3.553862e+02</td>\n",
       "    </tr>\n",
       "    <tr>\n",
       "      <th>min</th>\n",
       "      <td>1.000000e-18</td>\n",
       "    </tr>\n",
       "    <tr>\n",
       "      <th>25%</th>\n",
       "      <td>1.750000e-01</td>\n",
       "    </tr>\n",
       "    <tr>\n",
       "      <th>50%</th>\n",
       "      <td>3.999000e-01</td>\n",
       "    </tr>\n",
       "    <tr>\n",
       "      <th>75%</th>\n",
       "      <td>9.700000e-01</td>\n",
       "    </tr>\n",
       "    <tr>\n",
       "      <th>max</th>\n",
       "      <td>1.770000e+05</td>\n",
       "    </tr>\n",
       "  </tbody>\n",
       "</table>\n",
       "</div>"
      ],
      "text/plain": [
       "          price_eth\n",
       "count  2.639140e+05\n",
       "mean   2.516868e+00\n",
       "std    3.553862e+02\n",
       "min    1.000000e-18\n",
       "25%    1.750000e-01\n",
       "50%    3.999000e-01\n",
       "75%    9.700000e-01\n",
       "max    1.770000e+05"
      ]
     },
     "execution_count": 8,
     "metadata": {},
     "output_type": "execute_result"
    }
   ],
   "source": [
    "multi_trades_long.describe()"
   ]
  },
  {
   "cell_type": "code",
   "execution_count": 33,
   "id": "edef4081-787d-4ca6-b1a8-a192e75a6bcc",
   "metadata": {},
   "outputs": [],
   "source": [
    "mtl = multi_trades_long.reset_index().sort_values(\"nft_id\")"
   ]
  },
  {
   "cell_type": "code",
   "execution_count": 34,
   "id": "fe0c3c3e-9885-403e-bb62-04fbf6f36559",
   "metadata": {},
   "outputs": [],
   "source": [
    "mtl[\"first_trade\"]=None\n",
    "mtl[\"second_trade\"]=None\n",
    "#multi_trades_long[\"profit\"]=\"\""
   ]
  },
  {
   "cell_type": "code",
   "execution_count": 39,
   "id": "52f97b55-c73f-4cf2-88ff-13189fa77a39",
   "metadata": {},
   "outputs": [
    {
     "ename": "KeyError",
     "evalue": "263914",
     "output_type": "error",
     "traceback": [
      "\u001b[0;31m---------------------------------------------------------------------------\u001b[0m",
      "\u001b[0;31mKeyError\u001b[0m                                  Traceback (most recent call last)",
      "File \u001b[0;32m~/python/bachelor-thesis/venv/lib/python3.9/site-packages/pandas/core/indexes/base.py:3800\u001b[0m, in \u001b[0;36mIndex.get_loc\u001b[0;34m(self, key, method, tolerance)\u001b[0m\n\u001b[1;32m   3799\u001b[0m \u001b[38;5;28;01mtry\u001b[39;00m:\n\u001b[0;32m-> 3800\u001b[0m     \u001b[38;5;28;01mreturn\u001b[39;00m \u001b[38;5;28;43mself\u001b[39;49m\u001b[38;5;241;43m.\u001b[39;49m\u001b[43m_engine\u001b[49m\u001b[38;5;241;43m.\u001b[39;49m\u001b[43mget_loc\u001b[49m\u001b[43m(\u001b[49m\u001b[43mcasted_key\u001b[49m\u001b[43m)\u001b[49m\n\u001b[1;32m   3801\u001b[0m \u001b[38;5;28;01mexcept\u001b[39;00m \u001b[38;5;167;01mKeyError\u001b[39;00m \u001b[38;5;28;01mas\u001b[39;00m err:\n",
      "File \u001b[0;32m~/python/bachelor-thesis/venv/lib/python3.9/site-packages/pandas/_libs/index.pyx:138\u001b[0m, in \u001b[0;36mpandas._libs.index.IndexEngine.get_loc\u001b[0;34m()\u001b[0m\n",
      "File \u001b[0;32m~/python/bachelor-thesis/venv/lib/python3.9/site-packages/pandas/_libs/index.pyx:165\u001b[0m, in \u001b[0;36mpandas._libs.index.IndexEngine.get_loc\u001b[0;34m()\u001b[0m\n",
      "File \u001b[0;32mpandas/_libs/hashtable_class_helper.pxi:2263\u001b[0m, in \u001b[0;36mpandas._libs.hashtable.Int64HashTable.get_item\u001b[0;34m()\u001b[0m\n",
      "File \u001b[0;32mpandas/_libs/hashtable_class_helper.pxi:2273\u001b[0m, in \u001b[0;36mpandas._libs.hashtable.Int64HashTable.get_item\u001b[0;34m()\u001b[0m\n",
      "\u001b[0;31mKeyError\u001b[0m: 263914",
      "\nThe above exception was the direct cause of the following exception:\n",
      "\u001b[0;31mKeyError\u001b[0m                                  Traceback (most recent call last)",
      "Cell \u001b[0;32mIn [39], line 3\u001b[0m\n\u001b[1;32m      1\u001b[0m i \u001b[38;5;241m=\u001b[39m \u001b[38;5;241m0\u001b[39m\n\u001b[1;32m      2\u001b[0m \u001b[38;5;28;01mfor\u001b[39;00m nft \u001b[38;5;129;01min\u001b[39;00m \u001b[38;5;28mlist\u001b[39m(mtl[\u001b[38;5;124m\"\u001b[39m\u001b[38;5;124mnft_id\u001b[39m\u001b[38;5;124m\"\u001b[39m]\u001b[38;5;241m.\u001b[39munique()):\n\u001b[0;32m----> 3\u001b[0m     mtl\u001b[38;5;241m.\u001b[39mloc[i, \u001b[38;5;124m\"\u001b[39m\u001b[38;5;124mfirst_trade\u001b[39m\u001b[38;5;124m\"\u001b[39m] \u001b[38;5;241m=\u001b[39m \u001b[43mmtl\u001b[49m\u001b[38;5;241;43m.\u001b[39;49m\u001b[43mloc\u001b[49m\u001b[43m[\u001b[49m\u001b[43mi\u001b[49m\u001b[43m,\u001b[49m\u001b[43m \u001b[49m\u001b[38;5;124;43m\"\u001b[39;49m\u001b[38;5;124;43mprice_eth\u001b[39;49m\u001b[38;5;124;43m\"\u001b[39;49m\u001b[43m]\u001b[49m\n\u001b[1;32m      4\u001b[0m     mtl\u001b[38;5;241m.\u001b[39mloc[i\u001b[38;5;241m+\u001b[39m\u001b[38;5;241m1\u001b[39m, \u001b[38;5;124m\"\u001b[39m\u001b[38;5;124msecond_trade\u001b[39m\u001b[38;5;124m\"\u001b[39m] \u001b[38;5;241m=\u001b[39m mtl\u001b[38;5;241m.\u001b[39mloc[i\u001b[38;5;241m+\u001b[39m\u001b[38;5;241m1\u001b[39m, \u001b[38;5;124m\"\u001b[39m\u001b[38;5;124mprice_eth\u001b[39m\u001b[38;5;124m\"\u001b[39m]\n\u001b[1;32m      5\u001b[0m     i\u001b[38;5;241m+\u001b[39m\u001b[38;5;241m=\u001b[39m\u001b[38;5;241m2\u001b[39m\n",
      "File \u001b[0;32m~/python/bachelor-thesis/venv/lib/python3.9/site-packages/pandas/core/indexing.py:1067\u001b[0m, in \u001b[0;36m_LocationIndexer.__getitem__\u001b[0;34m(self, key)\u001b[0m\n\u001b[1;32m   1065\u001b[0m     key \u001b[38;5;241m=\u001b[39m \u001b[38;5;28mtuple\u001b[39m(com\u001b[38;5;241m.\u001b[39mapply_if_callable(x, \u001b[38;5;28mself\u001b[39m\u001b[38;5;241m.\u001b[39mobj) \u001b[38;5;28;01mfor\u001b[39;00m x \u001b[38;5;129;01min\u001b[39;00m key)\n\u001b[1;32m   1066\u001b[0m     \u001b[38;5;28;01mif\u001b[39;00m \u001b[38;5;28mself\u001b[39m\u001b[38;5;241m.\u001b[39m_is_scalar_access(key):\n\u001b[0;32m-> 1067\u001b[0m         \u001b[38;5;28;01mreturn\u001b[39;00m \u001b[38;5;28;43mself\u001b[39;49m\u001b[38;5;241;43m.\u001b[39;49m\u001b[43mobj\u001b[49m\u001b[38;5;241;43m.\u001b[39;49m\u001b[43m_get_value\u001b[49m\u001b[43m(\u001b[49m\u001b[38;5;241;43m*\u001b[39;49m\u001b[43mkey\u001b[49m\u001b[43m,\u001b[49m\u001b[43m \u001b[49m\u001b[43mtakeable\u001b[49m\u001b[38;5;241;43m=\u001b[39;49m\u001b[38;5;28;43mself\u001b[39;49m\u001b[38;5;241;43m.\u001b[39;49m\u001b[43m_takeable\u001b[49m\u001b[43m)\u001b[49m\n\u001b[1;32m   1068\u001b[0m     \u001b[38;5;28;01mreturn\u001b[39;00m \u001b[38;5;28mself\u001b[39m\u001b[38;5;241m.\u001b[39m_getitem_tuple(key)\n\u001b[1;32m   1069\u001b[0m \u001b[38;5;28;01melse\u001b[39;00m:\n\u001b[1;32m   1070\u001b[0m     \u001b[38;5;66;03m# we by definition only have the 0th axis\u001b[39;00m\n",
      "File \u001b[0;32m~/python/bachelor-thesis/venv/lib/python3.9/site-packages/pandas/core/frame.py:3922\u001b[0m, in \u001b[0;36mDataFrame._get_value\u001b[0;34m(self, index, col, takeable)\u001b[0m\n\u001b[1;32m   3916\u001b[0m engine \u001b[38;5;241m=\u001b[39m \u001b[38;5;28mself\u001b[39m\u001b[38;5;241m.\u001b[39mindex\u001b[38;5;241m.\u001b[39m_engine\n\u001b[1;32m   3918\u001b[0m \u001b[38;5;28;01mif\u001b[39;00m \u001b[38;5;129;01mnot\u001b[39;00m \u001b[38;5;28misinstance\u001b[39m(\u001b[38;5;28mself\u001b[39m\u001b[38;5;241m.\u001b[39mindex, MultiIndex):\n\u001b[1;32m   3919\u001b[0m     \u001b[38;5;66;03m# CategoricalIndex: Trying to use the engine fastpath may give incorrect\u001b[39;00m\n\u001b[1;32m   3920\u001b[0m     \u001b[38;5;66;03m#  results if our categories are integers that dont match our codes\u001b[39;00m\n\u001b[1;32m   3921\u001b[0m     \u001b[38;5;66;03m# IntervalIndex: IntervalTree has no get_loc\u001b[39;00m\n\u001b[0;32m-> 3922\u001b[0m     row \u001b[38;5;241m=\u001b[39m \u001b[38;5;28;43mself\u001b[39;49m\u001b[38;5;241;43m.\u001b[39;49m\u001b[43mindex\u001b[49m\u001b[38;5;241;43m.\u001b[39;49m\u001b[43mget_loc\u001b[49m\u001b[43m(\u001b[49m\u001b[43mindex\u001b[49m\u001b[43m)\u001b[49m\n\u001b[1;32m   3923\u001b[0m     \u001b[38;5;28;01mreturn\u001b[39;00m series\u001b[38;5;241m.\u001b[39m_values[row]\n\u001b[1;32m   3925\u001b[0m \u001b[38;5;66;03m# For MultiIndex going through engine effectively restricts us to\u001b[39;00m\n\u001b[1;32m   3926\u001b[0m \u001b[38;5;66;03m#  same-length tuples; see test_get_set_value_no_partial_indexing\u001b[39;00m\n",
      "File \u001b[0;32m~/python/bachelor-thesis/venv/lib/python3.9/site-packages/pandas/core/indexes/base.py:3802\u001b[0m, in \u001b[0;36mIndex.get_loc\u001b[0;34m(self, key, method, tolerance)\u001b[0m\n\u001b[1;32m   3800\u001b[0m     \u001b[38;5;28;01mreturn\u001b[39;00m \u001b[38;5;28mself\u001b[39m\u001b[38;5;241m.\u001b[39m_engine\u001b[38;5;241m.\u001b[39mget_loc(casted_key)\n\u001b[1;32m   3801\u001b[0m \u001b[38;5;28;01mexcept\u001b[39;00m \u001b[38;5;167;01mKeyError\u001b[39;00m \u001b[38;5;28;01mas\u001b[39;00m err:\n\u001b[0;32m-> 3802\u001b[0m     \u001b[38;5;28;01mraise\u001b[39;00m \u001b[38;5;167;01mKeyError\u001b[39;00m(key) \u001b[38;5;28;01mfrom\u001b[39;00m \u001b[38;5;21;01merr\u001b[39;00m\n\u001b[1;32m   3803\u001b[0m \u001b[38;5;28;01mexcept\u001b[39;00m \u001b[38;5;167;01mTypeError\u001b[39;00m:\n\u001b[1;32m   3804\u001b[0m     \u001b[38;5;66;03m# If we have a listlike key, _check_indexing_error will raise\u001b[39;00m\n\u001b[1;32m   3805\u001b[0m     \u001b[38;5;66;03m#  InvalidIndexError. Otherwise we fall through and re-raise\u001b[39;00m\n\u001b[1;32m   3806\u001b[0m     \u001b[38;5;66;03m#  the TypeError.\u001b[39;00m\n\u001b[1;32m   3807\u001b[0m     \u001b[38;5;28mself\u001b[39m\u001b[38;5;241m.\u001b[39m_check_indexing_error(key)\n",
      "\u001b[0;31mKeyError\u001b[0m: 263914"
     ]
    }
   ],
   "source": [
    "i = 0\n",
    "for nft in list(mtl[\"nft_id\"].unique()):\n",
    "    mtl.loc[i, \"first_trade\"] = mtl.loc[i, \"price_eth\"]\n",
    "    mtl.loc[i+1, \"second_trade\"] = mtl.loc[i+1, \"price_eth\"]\n",
    "    i+=2"
   ]
  },
  {
   "cell_type": "code",
   "execution_count": 16,
   "id": "4754ca7c-e2f7-4a92-a52d-d5f443925ecc",
   "metadata": {},
   "outputs": [],
   "source": [
    "mtl.loc[0, \"first_trade\"] = mtl[mtl[\"nft_id\"]==\"#LetsWalk_1\"].loc[0, \"price_eth\"]"
   ]
  },
  {
   "cell_type": "code",
   "execution_count": 41,
   "id": "c3c87f52-161f-4cf6-be95-471a99af5d40",
   "metadata": {},
   "outputs": [],
   "source": [
    "mtl[\"second_trade\"] = mtl[\"second_trade\"].shift(-1)"
   ]
  },
  {
   "cell_type": "code",
   "execution_count": 43,
   "id": "e4b23791-c3b1-41c4-b791-1a14e721362c",
   "metadata": {},
   "outputs": [],
   "source": [
    "mtl[\"first_timestamp\"] = mtl[\"timestamp\"]\n",
    "mtl[\"second_timestamp\"] = mtl[\"timestamp\"].shift(-1)"
   ]
  },
  {
   "cell_type": "code",
   "execution_count": 53,
   "id": "1ad394bd-4ed9-4302-adfc-76d921e0e9a3",
   "metadata": {},
   "outputs": [],
   "source": [
    "mtl = mtl[(mtl[\"second_trade\"].notna()) & (mtl[\"first_trade\"].notna())].drop([\"timestamp\", \"price_eth\"], axis=1).set_index(\"nft_id\")"
   ]
  },
  {
   "cell_type": "code",
   "execution_count": 55,
   "id": "43d1b315-1d52-447c-b976-ead92dc26a16",
   "metadata": {},
   "outputs": [],
   "source": [
    "mtl[\"profit\"] = mtl[\"second_trade\"] / mtl[\"first_trade\"] -1"
   ]
  },
  {
   "cell_type": "code",
   "execution_count": 65,
   "id": "89721a23-4f38-4a13-8ef7-85001c8224a7",
   "metadata": {},
   "outputs": [],
   "source": [
    "mtl.set_index(\"nft_id\").to_csv(\"profit_per_nft.csv\")"
   ]
  },
  {
   "cell_type": "code",
   "execution_count": 66,
   "id": "db214720-e250-4c07-a056-dbcc83b2455c",
   "metadata": {},
   "outputs": [],
   "source": [
    "nft_profits = pd.read_csv(\"profit_per_nft.csv\")"
   ]
  },
  {
   "cell_type": "code",
   "execution_count": 69,
   "id": "80b94e53-da2b-4915-a6b2-03ed27e1fea6",
   "metadata": {},
   "outputs": [
    {
     "data": {
      "text/html": [
       "<div>\n",
       "<style scoped>\n",
       "    .dataframe tbody tr th:only-of-type {\n",
       "        vertical-align: middle;\n",
       "    }\n",
       "\n",
       "    .dataframe tbody tr th {\n",
       "        vertical-align: top;\n",
       "    }\n",
       "\n",
       "    .dataframe thead th {\n",
       "        text-align: right;\n",
       "    }\n",
       "</style>\n",
       "<table border=\"1\" class=\"dataframe\">\n",
       "  <thead>\n",
       "    <tr style=\"text-align: right;\">\n",
       "      <th></th>\n",
       "      <th>nft_id</th>\n",
       "      <th>first_trade</th>\n",
       "      <th>second_trade</th>\n",
       "      <th>first_timestamp</th>\n",
       "      <th>second_timestamp</th>\n",
       "      <th>profit</th>\n",
       "    </tr>\n",
       "  </thead>\n",
       "  <tbody>\n",
       "    <tr>\n",
       "      <th>0</th>\n",
       "      <td>#LetsWalk_1</td>\n",
       "      <td>9.5000</td>\n",
       "      <td>15.000</td>\n",
       "      <td>2021-10-06 18:00:50</td>\n",
       "      <td>2021-12-14 03:17:48</td>\n",
       "      <td>0.578947</td>\n",
       "    </tr>\n",
       "    <tr>\n",
       "      <th>1</th>\n",
       "      <td>#LetsWalk_10019</td>\n",
       "      <td>1.5000</td>\n",
       "      <td>1.250</td>\n",
       "      <td>2021-08-23 22:14:34</td>\n",
       "      <td>2021-10-06 17:40:26</td>\n",
       "      <td>-0.166667</td>\n",
       "    </tr>\n",
       "    <tr>\n",
       "      <th>2</th>\n",
       "      <td>#LetsWalk_10020</td>\n",
       "      <td>1.9000</td>\n",
       "      <td>4.000</td>\n",
       "      <td>2021-08-13 20:09:07</td>\n",
       "      <td>2021-08-14 13:22:10</td>\n",
       "      <td>1.105263</td>\n",
       "    </tr>\n",
       "    <tr>\n",
       "      <th>3</th>\n",
       "      <td>#LetsWalk_10021</td>\n",
       "      <td>2.0000</td>\n",
       "      <td>2.399</td>\n",
       "      <td>2021-08-14 04:29:56</td>\n",
       "      <td>2021-08-14 07:56:12</td>\n",
       "      <td>0.199500</td>\n",
       "    </tr>\n",
       "    <tr>\n",
       "      <th>4</th>\n",
       "      <td>#LetsWalk_10023</td>\n",
       "      <td>5.5000</td>\n",
       "      <td>9.230</td>\n",
       "      <td>2021-08-15 17:14:04</td>\n",
       "      <td>2021-10-06 18:04:22</td>\n",
       "      <td>0.678182</td>\n",
       "    </tr>\n",
       "    <tr>\n",
       "      <th>...</th>\n",
       "      <td>...</td>\n",
       "      <td>...</td>\n",
       "      <td>...</td>\n",
       "      <td>...</td>\n",
       "      <td>...</td>\n",
       "      <td>...</td>\n",
       "    </tr>\n",
       "    <tr>\n",
       "      <th>120924</th>\n",
       "      <td>oncyber labs_1</td>\n",
       "      <td>0.8989</td>\n",
       "      <td>0.750</td>\n",
       "      <td>2021-09-20 02:05:34</td>\n",
       "      <td>2021-09-20 02:06:16</td>\n",
       "      <td>-0.165647</td>\n",
       "    </tr>\n",
       "    <tr>\n",
       "      <th>120925</th>\n",
       "      <td>oncyber labs_2</td>\n",
       "      <td>0.4800</td>\n",
       "      <td>0.500</td>\n",
       "      <td>2021-11-18 03:06:48</td>\n",
       "      <td>2021-11-18 03:06:48</td>\n",
       "      <td>0.041667</td>\n",
       "    </tr>\n",
       "    <tr>\n",
       "      <th>120926</th>\n",
       "      <td>oncyber labs_3</td>\n",
       "      <td>0.5000</td>\n",
       "      <td>0.390</td>\n",
       "      <td>2021-11-18 03:08:08</td>\n",
       "      <td>2021-11-18 03:08:08</td>\n",
       "      <td>-0.220000</td>\n",
       "    </tr>\n",
       "    <tr>\n",
       "      <th>120927</th>\n",
       "      <td>oncyber labs_4</td>\n",
       "      <td>0.4099</td>\n",
       "      <td>0.410</td>\n",
       "      <td>2021-12-22 19:37:07</td>\n",
       "      <td>2021-12-22 19:38:44</td>\n",
       "      <td>0.000244</td>\n",
       "    </tr>\n",
       "    <tr>\n",
       "      <th>120928</th>\n",
       "      <td>oncyber labs_5</td>\n",
       "      <td>0.2500</td>\n",
       "      <td>0.500</td>\n",
       "      <td>2021-12-25 15:24:41</td>\n",
       "      <td>2021-12-25 15:47:06</td>\n",
       "      <td>1.000000</td>\n",
       "    </tr>\n",
       "  </tbody>\n",
       "</table>\n",
       "<p>120929 rows × 6 columns</p>\n",
       "</div>"
      ],
      "text/plain": [
       "                 nft_id  first_trade  second_trade      first_timestamp  \\\n",
       "0           #LetsWalk_1       9.5000        15.000  2021-10-06 18:00:50   \n",
       "1       #LetsWalk_10019       1.5000         1.250  2021-08-23 22:14:34   \n",
       "2       #LetsWalk_10020       1.9000         4.000  2021-08-13 20:09:07   \n",
       "3       #LetsWalk_10021       2.0000         2.399  2021-08-14 04:29:56   \n",
       "4       #LetsWalk_10023       5.5000         9.230  2021-08-15 17:14:04   \n",
       "...                 ...          ...           ...                  ...   \n",
       "120924   oncyber labs_1       0.8989         0.750  2021-09-20 02:05:34   \n",
       "120925   oncyber labs_2       0.4800         0.500  2021-11-18 03:06:48   \n",
       "120926   oncyber labs_3       0.5000         0.390  2021-11-18 03:08:08   \n",
       "120927   oncyber labs_4       0.4099         0.410  2021-12-22 19:37:07   \n",
       "120928   oncyber labs_5       0.2500         0.500  2021-12-25 15:24:41   \n",
       "\n",
       "           second_timestamp    profit  \n",
       "0       2021-12-14 03:17:48  0.578947  \n",
       "1       2021-10-06 17:40:26 -0.166667  \n",
       "2       2021-08-14 13:22:10  1.105263  \n",
       "3       2021-08-14 07:56:12  0.199500  \n",
       "4       2021-10-06 18:04:22  0.678182  \n",
       "...                     ...       ...  \n",
       "120924  2021-09-20 02:06:16 -0.165647  \n",
       "120925  2021-11-18 03:06:48  0.041667  \n",
       "120926  2021-11-18 03:08:08 -0.220000  \n",
       "120927  2021-12-22 19:38:44  0.000244  \n",
       "120928  2021-12-25 15:47:06  1.000000  \n",
       "\n",
       "[120929 rows x 6 columns]"
      ]
     },
     "execution_count": 69,
     "metadata": {},
     "output_type": "execute_result"
    }
   ],
   "source": [
    "nft_profits"
   ]
  },
  {
   "cell_type": "code",
   "execution_count": null,
   "id": "4a24f6da-c2be-4c42-9d56-9088eb5ab085",
   "metadata": {},
   "outputs": [],
   "source": []
  }
 ],
 "metadata": {
  "kernelspec": {
   "display_name": "bachelor-thesis",
   "language": "python",
   "name": "bachelor-thesis"
  },
  "language_info": {
   "codemirror_mode": {
    "name": "ipython",
    "version": 3
   },
   "file_extension": ".py",
   "mimetype": "text/x-python",
   "name": "python",
   "nbconvert_exporter": "python",
   "pygments_lexer": "ipython3",
   "version": "3.10.6"
  }
 },
 "nbformat": 4,
 "nbformat_minor": 5
}
